{
 "cells": [
  {
   "cell_type": "markdown",
   "metadata": {},
   "source": [
    "### Harrison Pratt"
   ]
  },
  {
   "cell_type": "markdown",
   "metadata": {},
   "source": [
    "# The Value of the Major League Baseball Pitcher"
   ]
  },
  {
   "cell_type": "markdown",
   "metadata": {},
   "source": [
    "https://hpratt1.github.io/"
   ]
  },
  {
   "cell_type": "markdown",
   "metadata": {},
   "source": [
    "## The Problem"
   ]
  },
  {
   "cell_type": "markdown",
   "metadata": {},
   "source": [
    "Baseball teams are usually divided into two different parts: their offense led by their batters, and their defense led by their pitchers. Every offseason, Major League Baseball teams have to make an important decision: Should they spend their money on their batting or their pitching? In this study, I am going to attempt to form an answer to this question by observing how teams value their pitchers and whether they should pay them more or less."
   ]
  },
  {
   "cell_type": "markdown",
   "metadata": {},
   "source": [
    "## Retrieving and Tidying Data"
   ]
  },
  {
   "cell_type": "markdown",
   "metadata": {},
   "source": [
    "**In this cell, I will read in the data from four csv files: Pitching.csv, Batting.csv, Salaries.csv, People.csv. After that, I will do some joins so that the full player name is in the batting and pitching dataframe and also get a pitchers and batters salaries dataframe**"
   ]
  },
  {
   "cell_type": "code",
   "execution_count": 77,
   "metadata": {},
   "outputs": [
    {
     "name": "stdout",
     "output_type": "stream",
     "text": [
      "\n",
      "Pitcher Statistics\n"
     ]
    },
    {
     "data": {
      "text/html": [
       "<div>\n",
       "<style scoped>\n",
       "    .dataframe tbody tr th:only-of-type {\n",
       "        vertical-align: middle;\n",
       "    }\n",
       "\n",
       "    .dataframe tbody tr th {\n",
       "        vertical-align: top;\n",
       "    }\n",
       "\n",
       "    .dataframe thead th {\n",
       "        text-align: right;\n",
       "    }\n",
       "</style>\n",
       "<table border=\"1\" class=\"dataframe\">\n",
       "  <thead>\n",
       "    <tr style=\"text-align: right;\">\n",
       "      <th></th>\n",
       "      <th>playerID</th>\n",
       "      <th>yearID</th>\n",
       "      <th>stint</th>\n",
       "      <th>teamID</th>\n",
       "      <th>lgID</th>\n",
       "      <th>W</th>\n",
       "      <th>L</th>\n",
       "      <th>G</th>\n",
       "      <th>GS</th>\n",
       "      <th>CG</th>\n",
       "      <th>...</th>\n",
       "      <th>BK</th>\n",
       "      <th>BFP</th>\n",
       "      <th>GF</th>\n",
       "      <th>R</th>\n",
       "      <th>SH</th>\n",
       "      <th>SF</th>\n",
       "      <th>GIDP</th>\n",
       "      <th>nameFirst</th>\n",
       "      <th>nameLast</th>\n",
       "      <th>salary</th>\n",
       "    </tr>\n",
       "  </thead>\n",
       "  <tbody>\n",
       "    <tr>\n",
       "      <th>24986</th>\n",
       "      <td>ackerji01</td>\n",
       "      <td>1985</td>\n",
       "      <td>1</td>\n",
       "      <td>TOR</td>\n",
       "      <td>AL</td>\n",
       "      <td>7</td>\n",
       "      <td>2</td>\n",
       "      <td>61</td>\n",
       "      <td>0</td>\n",
       "      <td>0</td>\n",
       "      <td>...</td>\n",
       "      <td>0</td>\n",
       "      <td>370.0</td>\n",
       "      <td>26</td>\n",
       "      <td>35</td>\n",
       "      <td>1.0</td>\n",
       "      <td>2.0</td>\n",
       "      <td>16.0</td>\n",
       "      <td>Jim</td>\n",
       "      <td>Acker</td>\n",
       "      <td>170000.0</td>\n",
       "    </tr>\n",
       "    <tr>\n",
       "      <th>24987</th>\n",
       "      <td>agostju01</td>\n",
       "      <td>1985</td>\n",
       "      <td>1</td>\n",
       "      <td>CHA</td>\n",
       "      <td>AL</td>\n",
       "      <td>4</td>\n",
       "      <td>3</td>\n",
       "      <td>54</td>\n",
       "      <td>0</td>\n",
       "      <td>0</td>\n",
       "      <td>...</td>\n",
       "      <td>0</td>\n",
       "      <td>246.0</td>\n",
       "      <td>21</td>\n",
       "      <td>27</td>\n",
       "      <td>3.0</td>\n",
       "      <td>3.0</td>\n",
       "      <td>4.0</td>\n",
       "      <td>Juan</td>\n",
       "      <td>Agosto</td>\n",
       "      <td>147500.0</td>\n",
       "    </tr>\n",
       "    <tr>\n",
       "      <th>24989</th>\n",
       "      <td>alexado01</td>\n",
       "      <td>1985</td>\n",
       "      <td>1</td>\n",
       "      <td>TOR</td>\n",
       "      <td>AL</td>\n",
       "      <td>17</td>\n",
       "      <td>10</td>\n",
       "      <td>36</td>\n",
       "      <td>36</td>\n",
       "      <td>6</td>\n",
       "      <td>...</td>\n",
       "      <td>0</td>\n",
       "      <td>1090.0</td>\n",
       "      <td>0</td>\n",
       "      <td>105</td>\n",
       "      <td>6.0</td>\n",
       "      <td>3.0</td>\n",
       "      <td>15.0</td>\n",
       "      <td>Doyle</td>\n",
       "      <td>Alexander</td>\n",
       "      <td>875000.0</td>\n",
       "    </tr>\n",
       "    <tr>\n",
       "      <th>24990</th>\n",
       "      <td>allenne01</td>\n",
       "      <td>1985</td>\n",
       "      <td>1</td>\n",
       "      <td>SLN</td>\n",
       "      <td>NL</td>\n",
       "      <td>1</td>\n",
       "      <td>4</td>\n",
       "      <td>23</td>\n",
       "      <td>1</td>\n",
       "      <td>0</td>\n",
       "      <td>...</td>\n",
       "      <td>1</td>\n",
       "      <td>135.0</td>\n",
       "      <td>13</td>\n",
       "      <td>22</td>\n",
       "      <td>1.0</td>\n",
       "      <td>3.0</td>\n",
       "      <td>3.0</td>\n",
       "      <td>Neil</td>\n",
       "      <td>Allen</td>\n",
       "      <td>750000.0</td>\n",
       "    </tr>\n",
       "    <tr>\n",
       "      <th>24991</th>\n",
       "      <td>allenne01</td>\n",
       "      <td>1985</td>\n",
       "      <td>2</td>\n",
       "      <td>NYA</td>\n",
       "      <td>AL</td>\n",
       "      <td>1</td>\n",
       "      <td>0</td>\n",
       "      <td>17</td>\n",
       "      <td>0</td>\n",
       "      <td>0</td>\n",
       "      <td>...</td>\n",
       "      <td>0</td>\n",
       "      <td>124.0</td>\n",
       "      <td>10</td>\n",
       "      <td>9</td>\n",
       "      <td>0.0</td>\n",
       "      <td>0.0</td>\n",
       "      <td>3.0</td>\n",
       "      <td>Neil</td>\n",
       "      <td>Allen</td>\n",
       "      <td>750000.0</td>\n",
       "    </tr>\n",
       "  </tbody>\n",
       "</table>\n",
       "<p>5 rows × 33 columns</p>\n",
       "</div>"
      ],
      "text/plain": [
       "        playerID  yearID  stint teamID lgID   W   L   G  GS  CG  ...  BK  \\\n",
       "24986  ackerji01    1985      1    TOR   AL   7   2  61   0   0  ...   0   \n",
       "24987  agostju01    1985      1    CHA   AL   4   3  54   0   0  ...   0   \n",
       "24989  alexado01    1985      1    TOR   AL  17  10  36  36   6  ...   0   \n",
       "24990  allenne01    1985      1    SLN   NL   1   4  23   1   0  ...   1   \n",
       "24991  allenne01    1985      2    NYA   AL   1   0  17   0   0  ...   0   \n",
       "\n",
       "          BFP  GF    R   SH   SF  GIDP  nameFirst   nameLast    salary  \n",
       "24986   370.0  26   35  1.0  2.0  16.0        Jim      Acker  170000.0  \n",
       "24987   246.0  21   27  3.0  3.0   4.0       Juan     Agosto  147500.0  \n",
       "24989  1090.0   0  105  6.0  3.0  15.0      Doyle  Alexander  875000.0  \n",
       "24990   135.0  13   22  1.0  3.0   3.0       Neil      Allen  750000.0  \n",
       "24991   124.0  10    9  0.0  0.0   3.0       Neil      Allen  750000.0  \n",
       "\n",
       "[5 rows x 33 columns]"
      ]
     },
     "metadata": {},
     "output_type": "display_data"
    },
    {
     "name": "stdout",
     "output_type": "stream",
     "text": [
      "\n",
      "\n",
      "Batter Statistics\n"
     ]
    },
    {
     "data": {
      "text/html": [
       "<div>\n",
       "<style scoped>\n",
       "    .dataframe tbody tr th:only-of-type {\n",
       "        vertical-align: middle;\n",
       "    }\n",
       "\n",
       "    .dataframe tbody tr th {\n",
       "        vertical-align: top;\n",
       "    }\n",
       "\n",
       "    .dataframe thead th {\n",
       "        text-align: right;\n",
       "    }\n",
       "</style>\n",
       "<table border=\"1\" class=\"dataframe\">\n",
       "  <thead>\n",
       "    <tr style=\"text-align: right;\">\n",
       "      <th></th>\n",
       "      <th>playerID</th>\n",
       "      <th>yearID</th>\n",
       "      <th>stint</th>\n",
       "      <th>teamID</th>\n",
       "      <th>lgID</th>\n",
       "      <th>G</th>\n",
       "      <th>AB</th>\n",
       "      <th>R</th>\n",
       "      <th>H</th>\n",
       "      <th>2B</th>\n",
       "      <th>...</th>\n",
       "      <th>BB</th>\n",
       "      <th>SO</th>\n",
       "      <th>IBB</th>\n",
       "      <th>HBP</th>\n",
       "      <th>SH</th>\n",
       "      <th>SF</th>\n",
       "      <th>GIDP</th>\n",
       "      <th>nameFirst</th>\n",
       "      <th>nameLast</th>\n",
       "      <th>salary</th>\n",
       "    </tr>\n",
       "  </thead>\n",
       "  <tbody>\n",
       "    <tr>\n",
       "      <th>2</th>\n",
       "      <td>aguaylu01</td>\n",
       "      <td>1985</td>\n",
       "      <td>1</td>\n",
       "      <td>PHI</td>\n",
       "      <td>NL</td>\n",
       "      <td>91</td>\n",
       "      <td>165</td>\n",
       "      <td>27</td>\n",
       "      <td>46</td>\n",
       "      <td>7</td>\n",
       "      <td>...</td>\n",
       "      <td>22</td>\n",
       "      <td>26.0</td>\n",
       "      <td>5.0</td>\n",
       "      <td>6.0</td>\n",
       "      <td>4.0</td>\n",
       "      <td>3.0</td>\n",
       "      <td>7.0</td>\n",
       "      <td>Luis</td>\n",
       "      <td>Aguayo</td>\n",
       "      <td>237000</td>\n",
       "    </tr>\n",
       "    <tr>\n",
       "      <th>6</th>\n",
       "      <td>almonbi01</td>\n",
       "      <td>1985</td>\n",
       "      <td>1</td>\n",
       "      <td>PIT</td>\n",
       "      <td>NL</td>\n",
       "      <td>88</td>\n",
       "      <td>244</td>\n",
       "      <td>33</td>\n",
       "      <td>66</td>\n",
       "      <td>17</td>\n",
       "      <td>...</td>\n",
       "      <td>22</td>\n",
       "      <td>61.0</td>\n",
       "      <td>0.0</td>\n",
       "      <td>1.0</td>\n",
       "      <td>4.0</td>\n",
       "      <td>3.0</td>\n",
       "      <td>6.0</td>\n",
       "      <td>Bill</td>\n",
       "      <td>Almon</td>\n",
       "      <td>255000</td>\n",
       "    </tr>\n",
       "    <tr>\n",
       "      <th>9</th>\n",
       "      <td>armasto01</td>\n",
       "      <td>1985</td>\n",
       "      <td>1</td>\n",
       "      <td>BOS</td>\n",
       "      <td>AL</td>\n",
       "      <td>103</td>\n",
       "      <td>385</td>\n",
       "      <td>50</td>\n",
       "      <td>102</td>\n",
       "      <td>17</td>\n",
       "      <td>...</td>\n",
       "      <td>18</td>\n",
       "      <td>90.0</td>\n",
       "      <td>4.0</td>\n",
       "      <td>2.0</td>\n",
       "      <td>0.0</td>\n",
       "      <td>5.0</td>\n",
       "      <td>14.0</td>\n",
       "      <td>Tony</td>\n",
       "      <td>Armas</td>\n",
       "      <td>915000</td>\n",
       "    </tr>\n",
       "    <tr>\n",
       "      <th>10</th>\n",
       "      <td>ashbyal01</td>\n",
       "      <td>1985</td>\n",
       "      <td>1</td>\n",
       "      <td>HOU</td>\n",
       "      <td>NL</td>\n",
       "      <td>65</td>\n",
       "      <td>189</td>\n",
       "      <td>20</td>\n",
       "      <td>53</td>\n",
       "      <td>8</td>\n",
       "      <td>...</td>\n",
       "      <td>24</td>\n",
       "      <td>27.0</td>\n",
       "      <td>2.0</td>\n",
       "      <td>1.0</td>\n",
       "      <td>1.0</td>\n",
       "      <td>1.0</td>\n",
       "      <td>9.0</td>\n",
       "      <td>Alan</td>\n",
       "      <td>Ashby</td>\n",
       "      <td>416667</td>\n",
       "    </tr>\n",
       "    <tr>\n",
       "      <th>13</th>\n",
       "      <td>backmwa01</td>\n",
       "      <td>1985</td>\n",
       "      <td>1</td>\n",
       "      <td>NYN</td>\n",
       "      <td>NL</td>\n",
       "      <td>145</td>\n",
       "      <td>520</td>\n",
       "      <td>77</td>\n",
       "      <td>142</td>\n",
       "      <td>24</td>\n",
       "      <td>...</td>\n",
       "      <td>36</td>\n",
       "      <td>72.0</td>\n",
       "      <td>1.0</td>\n",
       "      <td>1.0</td>\n",
       "      <td>14.0</td>\n",
       "      <td>3.0</td>\n",
       "      <td>3.0</td>\n",
       "      <td>Wally</td>\n",
       "      <td>Backman</td>\n",
       "      <td>200000</td>\n",
       "    </tr>\n",
       "  </tbody>\n",
       "</table>\n",
       "<p>5 rows × 25 columns</p>\n",
       "</div>"
      ],
      "text/plain": [
       "     playerID  yearID  stint teamID lgID    G   AB   R    H  2B  ...  BB  \\\n",
       "2   aguaylu01    1985      1    PHI   NL   91  165  27   46   7  ...  22   \n",
       "6   almonbi01    1985      1    PIT   NL   88  244  33   66  17  ...  22   \n",
       "9   armasto01    1985      1    BOS   AL  103  385  50  102  17  ...  18   \n",
       "10  ashbyal01    1985      1    HOU   NL   65  189  20   53   8  ...  24   \n",
       "13  backmwa01    1985      1    NYN   NL  145  520  77  142  24  ...  36   \n",
       "\n",
       "      SO  IBB  HBP    SH   SF  GIDP  nameFirst  nameLast  salary  \n",
       "2   26.0  5.0  6.0   4.0  3.0   7.0       Luis    Aguayo  237000  \n",
       "6   61.0  0.0  1.0   4.0  3.0   6.0       Bill     Almon  255000  \n",
       "9   90.0  4.0  2.0   0.0  5.0  14.0       Tony     Armas  915000  \n",
       "10  27.0  2.0  1.0   1.0  1.0   9.0       Alan     Ashby  416667  \n",
       "13  72.0  1.0  1.0  14.0  3.0   3.0      Wally   Backman  200000  \n",
       "\n",
       "[5 rows x 25 columns]"
      ]
     },
     "metadata": {},
     "output_type": "display_data"
    }
   ],
   "source": [
    "# read in salaries.csv, pitching.csv, and people.csv into dataframes\n",
    "import matplotlib.pyplot as plt\n",
    "import pandas as pd\n",
    "import numpy as np\n",
    "import warnings \n",
    "warnings.filterwarnings('ignore')\n",
    "salaries_df = pd.read_csv(\"./data/Salaries.csv\")\n",
    "pitching_df = pd.read_csv(\"./data/Pitching.csv\")\n",
    "batting_df = pd.read_csv(\"./data/Batting.csv\")\n",
    "people_df = pd.read_csv(\"./data/People.csv\")\n",
    "\n",
    "# join pitching and people so that the player name is now part of pitching dataframe\n",
    "pitching_df_names = pd.merge(pitching_df, people_df[[\"playerID\", \"nameFirst\", \"nameLast\"]], on=\"playerID\", how=\"left\")\n",
    "\n",
    "# get pitcher salary into pitching_df\n",
    "pitching = pd.merge(pitching_df_names, salaries_df[[\"playerID\", \"yearID\", \"salary\"]], on=[\"playerID\", \"yearID\"], how=\"left\")\n",
    "# trim pitching salaries to only get years with relevant salary data\n",
    "pitching_salaries = pitching[pitching[\"yearID\"] >= 1985]\n",
    "# drop any record that has NaN for a column\n",
    "pitchers = pitching_salaries.dropna()\n",
    "print(\"\\nPitcher Statistics\")\n",
    "display(pitchers.head())\n",
    "\n",
    "# join batting and people so that the player name is part of batting dataframe\n",
    "batting_df_names = pd.merge(batting_df, people_df[[\"playerID\", \"nameFirst\", \"nameLast\"]], on=\"playerID\", how=\"left\")\n",
    "# get batter salary into batting dataframe\n",
    "batting = pd.merge(batting_df_names, salaries_df[[\"playerID\", \"yearID\", \"salary\"]], on=[\"playerID\", \"yearID\"], how=\"inner\")\n",
    "# trim pitching salaries to only get years with relevant salary data\n",
    "batting_salaries = batting[batting[\"yearID\"] >= 1985]\n",
    "# trim batters with less than 100 At Bats to get rid of pitchers from that table\n",
    "batter_salaries = batting_salaries[batting_salaries[\"AB\"] > 100]\n",
    "# drop any record that has NaN for a column\n",
    "batters = batter_salaries.dropna()\n",
    "print(\"\\n\\nBatter Statistics\")\n",
    "display(batters.head())\n",
    "\n",
    "#"
   ]
  },
  {
   "cell_type": "markdown",
   "metadata": {},
   "source": [
    "## Examine important statistics over time"
   ]
  },
  {
   "cell_type": "markdown",
   "metadata": {},
   "source": [
    "**To provide a bit of context, I am going to set up a few graphs tracking some important statistics for pitchers such as earned run average and strikeouts, and for batters such as batting average and home runs**"
   ]
  },
  {
   "cell_type": "markdown",
   "metadata": {},
   "source": [
    "### Track Pitching Statistics Over Time "
   ]
  },
  {
   "cell_type": "markdown",
   "metadata": {},
   "source": [
    "**Use line graphs to track earned run average and strikeouts over time**"
   ]
  },
  {
   "cell_type": "code",
   "execution_count": 28,
   "metadata": {},
   "outputs": [
    {
     "data": {
      "text/plain": [
       "Text(0.5, 0, 'Year')"
      ]
     },
     "execution_count": 28,
     "metadata": {},
     "output_type": "execute_result"
    },
    {
     "data": {
      "image/png": "[encoded data removed]",
      "text/plain": [
       "<Figure size 432x288 with 1 Axes>"
      ]
     },
     "metadata": {
      "needs_background": "light"
     },
     "output_type": "display_data"
    }
   ],
   "source": [
    "# plot total strikeouts over time on line graph\n",
    "total_strikeouts = pitchers.groupby(\"yearID\")[\"SO\"].sum()\n",
    "so_plot = total_strikeouts.plot.line(title=\"Total Strikeouts Over Time\") \n",
    "so_plot.set_ylabel(\"Total Strikeouts\")\n",
    "so_plot.set_xlabel(\"Year\")"
   ]
  },
  {
   "cell_type": "markdown",
   "metadata": {},
   "source": [
    "**From the graph we can see that since 1985 total strikeouts have steadily increased with a massive rise around 1995 followed by a relatively small decline a couple of years after**"
   ]
  },
  {
   "cell_type": "code",
   "execution_count": 29,
   "metadata": {},
   "outputs": [
    {
     "data": {
      "text/plain": [
       "Text(0.5, 0, 'Year')"
      ]
     },
     "execution_count": 29,
     "metadata": {},
     "output_type": "execute_result"
    },
    {
     "data": {
      "image/png": "[encoded data removed]",
      "text/plain": [
       "<Figure size 432x288 with 1 Axes>"
      ]
     },
     "metadata": {
      "needs_background": "light"
     },
     "output_type": "display_data"
    }
   ],
   "source": [
    "# plot earned run average over time on line graph\n",
    "mean_era = pitchers.groupby(\"yearID\")[\"ERA\"].mean()\n",
    "era_plot = mean_era.plot.line(title=\"Earned Run Average Over Time\") \n",
    "era_plot.set_ylabel(\"ERA\")\n",
    "era_plot.set_xlabel(\"Year\")"
   ]
  },
  {
   "cell_type": "markdown",
   "metadata": {},
   "source": [
    "**From the graph we can see that ERA was increased up until around its peak in 2000, and since then it has steadily decreased, which means that pitching has improved since 2000**"
   ]
  },
  {
   "cell_type": "markdown",
   "metadata": {},
   "source": [
    "### Track Batting Statistics Over Time"
   ]
  },
  {
   "cell_type": "code",
   "execution_count": 35,
   "metadata": {},
   "outputs": [
    {
     "data": {
      "text/plain": [
       "Text(0.5, 0, 'Year')"
      ]
     },
     "execution_count": 35,
     "metadata": {},
     "output_type": "execute_result"
    },
    {
     "data": {
      "image/png": "[encoded data removed]",
      "text/plain": [
       "<Figure size 432x288 with 1 Axes>"
      ]
     },
     "metadata": {
      "needs_background": "light"
     },
     "output_type": "display_data"
    }
   ],
   "source": [
    "# create new column Batting Avg\n",
    "avgs = []\n",
    "for row in batters.iterrows():\n",
    "    hits = row[1][\"H\"]\n",
    "    atbats = row[1][\"AB\"]\n",
    "    avg = hits/atbats\n",
    "    avgs = avgs + [avg]\n",
    "batters[\"AVG\"] = avgs\n",
    "\n",
    "# plot batting average over time on line graph\n",
    "batting_average = batters.groupby(\"yearID\")[\"AVG\"].mean()\n",
    "ba_plot = batting_average.plot.line(title=\"Batting Average Over Time\") \n",
    "ba_plot.set_ylabel(\"Batting Average\")\n",
    "ba_plot.set_xlabel(\"Year\")"
   ]
  },
  {
   "cell_type": "markdown",
   "metadata": {},
   "source": [
    "**From the graph we can see that batting average had a major increase in the early 1990's and stayed high for a while until the late 2000's in which it had a precipitous drop and has been very low in the recent past**"
   ]
  },
  {
   "cell_type": "code",
   "execution_count": 34,
   "metadata": {},
   "outputs": [
    {
     "data": {
      "text/plain": [
       "Text(0.5, 0, 'Year')"
      ]
     },
     "execution_count": 34,
     "metadata": {},
     "output_type": "execute_result"
    },
    {
     "data": {
      "image/png": "[encoded data removed]",
      "text/plain": [
       "<Figure size 432x288 with 1 Axes>"
      ]
     },
     "metadata": {
      "needs_background": "light"
     },
     "output_type": "display_data"
    }
   ],
   "source": [
    "# plot batting average over time on line graph\n",
    "home_runs = batters.groupby(\"yearID\")[\"HR\"].mean()\n",
    "hr_plot = home_runs.plot.line(title=\"Home Runs Over Time\") \n",
    "hr_plot.set_ylabel(\"Home Runs\")\n",
    "hr_plot.set_xlabel(\"Year\")"
   ]
  },
  {
   "cell_type": "markdown",
   "metadata": {},
   "source": [
    "**From the graph we can see that while home runs were increasing since 1990 they started to decrease starting around 2005 but recently there has been a massive increase in the number of home runs hit per season**"
   ]
  },
  {
   "cell_type": "markdown",
   "metadata": {},
   "source": [
    "### Final Conclusions From Statistics Over Time"
   ]
  },
  {
   "cell_type": "markdown",
   "metadata": {},
   "source": [
    "From analyzing these graphs, we can see that in the past decade there has been a decrease in batting average and earned run average, but an increase in home runs and strikeouts. These trends can be attributed to two main factors. The first factor is that batters are now attempting to hit for power instead of hitting for contact, which means that while there would be an increase in home runs, batting average would decrease and strikeouts would decrease. The second factor is that pitching has been improving, which would lower batting average and earned run average, while also increasing strikeouts."
   ]
  },
  {
   "cell_type": "markdown",
   "metadata": {},
   "source": [
    "## Comparing Mean Pitcher Salary and Mean Batter Salary "
   ]
  },
  {
   "cell_type": "markdown",
   "metadata": {},
   "source": [
    "**Use line graphs to compare average pitcher salary to average total player salary from 1985 to 2014**"
   ]
  },
  {
   "cell_type": "code",
   "execution_count": 31,
   "metadata": {},
   "outputs": [
    {
     "data": {
      "text/plain": [
       "<matplotlib.legend.Legend at 0x7f17e9f85f98>"
      ]
     },
     "execution_count": 31,
     "metadata": {},
     "output_type": "execute_result"
    },
    {
     "data": {
      "image/png": "[encoded data removed]",
      "text/plain": [
       "<Figure size 432x288 with 1 Axes>"
      ]
     },
     "metadata": {
      "needs_background": "light"
     },
     "output_type": "display_data"
    }
   ],
   "source": [
    "# get mean pitcher salaries\n",
    "mean_pitcher_salaries = pitchers.groupby(\"yearID\")[\"salary\"].mean()/1000\n",
    "# get mean batter salaries\n",
    "mean_batter_salaries = batters.groupby(\"yearID\")[\"salary\"].mean()/1000\n",
    "# plot mean salaries\n",
    "mean_plot = mean_batter_salaries.plot.line(legend=True)\n",
    "mean_pitcher_salaries.plot.line(ax=mean_plot, legend=True)\n",
    "mean_plot.set_title(\"Mean Salaries Over Time\")\n",
    "mean_plot.set_ylabel(\"Mean Salary (in thousands of dollars)\")\n",
    "mean_plot.set_xlabel(\"Year\")\n",
    "mean_plot.legend([\"Batters\", \"Pitchers\"])"
   ]
  },
  {
   "cell_type": "markdown",
   "metadata": {},
   "source": [
    "**From this graph we can see that from 1985 to 1990 the mean salary for each type of player was relatively even, but as the years have passed batters have gotten paid increasingly more than pitchers. So although pitching has improved recently, there has been no compensation for the pitchers to reflect this trend.**"
   ]
  },
  {
   "cell_type": "markdown",
   "metadata": {},
   "source": [
    "## Compare Starting Pitcher and Relief Pitcher Salary"
   ]
  },
  {
   "cell_type": "markdown",
   "metadata": {},
   "source": [
    "**One of the reasons that pitchers may be getting paid less than batters is that relief pitchers are often valued less than other positions, which would lower the overall mean pitcher salary. Therefore, in this part we want to compare salary for starting pitchers and relief pitchers to see if there is a difference**"
   ]
  },
  {
   "cell_type": "code",
   "execution_count": 78,
   "metadata": {},
   "outputs": [
    {
     "name": "stdout",
     "output_type": "stream",
     "text": [
      "\n",
      "Starting Pitcher Statistics\n"
     ]
    },
    {
     "data": {
      "text/html": [
       "<div>\n",
       "<style scoped>\n",
       "    .dataframe tbody tr th:only-of-type {\n",
       "        vertical-align: middle;\n",
       "    }\n",
       "\n",
       "    .dataframe tbody tr th {\n",
       "        vertical-align: top;\n",
       "    }\n",
       "\n",
       "    .dataframe thead th {\n",
       "        text-align: right;\n",
       "    }\n",
       "</style>\n",
       "<table border=\"1\" class=\"dataframe\">\n",
       "  <thead>\n",
       "    <tr style=\"text-align: right;\">\n",
       "      <th></th>\n",
       "      <th>playerID</th>\n",
       "      <th>yearID</th>\n",
       "      <th>stint</th>\n",
       "      <th>teamID</th>\n",
       "      <th>lgID</th>\n",
       "      <th>W</th>\n",
       "      <th>L</th>\n",
       "      <th>G</th>\n",
       "      <th>GS</th>\n",
       "      <th>CG</th>\n",
       "      <th>...</th>\n",
       "      <th>BK</th>\n",
       "      <th>BFP</th>\n",
       "      <th>GF</th>\n",
       "      <th>R</th>\n",
       "      <th>SH</th>\n",
       "      <th>SF</th>\n",
       "      <th>GIDP</th>\n",
       "      <th>nameFirst</th>\n",
       "      <th>nameLast</th>\n",
       "      <th>salary</th>\n",
       "    </tr>\n",
       "  </thead>\n",
       "  <tbody>\n",
       "    <tr>\n",
       "      <th>24989</th>\n",
       "      <td>alexado01</td>\n",
       "      <td>1985</td>\n",
       "      <td>1</td>\n",
       "      <td>TOR</td>\n",
       "      <td>AL</td>\n",
       "      <td>17</td>\n",
       "      <td>10</td>\n",
       "      <td>36</td>\n",
       "      <td>36</td>\n",
       "      <td>6</td>\n",
       "      <td>...</td>\n",
       "      <td>0</td>\n",
       "      <td>1090.0</td>\n",
       "      <td>0</td>\n",
       "      <td>105</td>\n",
       "      <td>6.0</td>\n",
       "      <td>3.0</td>\n",
       "      <td>15.0</td>\n",
       "      <td>Doyle</td>\n",
       "      <td>Alexander</td>\n",
       "      <td>875000.0</td>\n",
       "    </tr>\n",
       "    <tr>\n",
       "      <th>24993</th>\n",
       "      <td>andujjo01</td>\n",
       "      <td>1985</td>\n",
       "      <td>1</td>\n",
       "      <td>SLN</td>\n",
       "      <td>NL</td>\n",
       "      <td>21</td>\n",
       "      <td>12</td>\n",
       "      <td>38</td>\n",
       "      <td>38</td>\n",
       "      <td>10</td>\n",
       "      <td>...</td>\n",
       "      <td>0</td>\n",
       "      <td>1127.0</td>\n",
       "      <td>0</td>\n",
       "      <td>113</td>\n",
       "      <td>11.0</td>\n",
       "      <td>4.0</td>\n",
       "      <td>32.0</td>\n",
       "      <td>Joaquin</td>\n",
       "      <td>Andujar</td>\n",
       "      <td>1030000.0</td>\n",
       "    </tr>\n",
       "    <tr>\n",
       "      <th>24999</th>\n",
       "      <td>bannifl01</td>\n",
       "      <td>1985</td>\n",
       "      <td>1</td>\n",
       "      <td>CHA</td>\n",
       "      <td>AL</td>\n",
       "      <td>10</td>\n",
       "      <td>14</td>\n",
       "      <td>34</td>\n",
       "      <td>34</td>\n",
       "      <td>4</td>\n",
       "      <td>...</td>\n",
       "      <td>0</td>\n",
       "      <td>928.0</td>\n",
       "      <td>0</td>\n",
       "      <td>121</td>\n",
       "      <td>9.0</td>\n",
       "      <td>8.0</td>\n",
       "      <td>20.0</td>\n",
       "      <td>Floyd</td>\n",
       "      <td>Bannister</td>\n",
       "      <td>811250.0</td>\n",
       "    </tr>\n",
       "    <tr>\n",
       "      <th>25000</th>\n",
       "      <td>barkele01</td>\n",
       "      <td>1985</td>\n",
       "      <td>1</td>\n",
       "      <td>ATL</td>\n",
       "      <td>NL</td>\n",
       "      <td>2</td>\n",
       "      <td>9</td>\n",
       "      <td>20</td>\n",
       "      <td>18</td>\n",
       "      <td>0</td>\n",
       "      <td>...</td>\n",
       "      <td>0</td>\n",
       "      <td>335.0</td>\n",
       "      <td>1</td>\n",
       "      <td>55</td>\n",
       "      <td>4.0</td>\n",
       "      <td>1.0</td>\n",
       "      <td>4.0</td>\n",
       "      <td>Len</td>\n",
       "      <td>Barker</td>\n",
       "      <td>870000.0</td>\n",
       "    </tr>\n",
       "    <tr>\n",
       "      <th>25004</th>\n",
       "      <td>beattji01</td>\n",
       "      <td>1985</td>\n",
       "      <td>1</td>\n",
       "      <td>SEA</td>\n",
       "      <td>AL</td>\n",
       "      <td>5</td>\n",
       "      <td>6</td>\n",
       "      <td>18</td>\n",
       "      <td>15</td>\n",
       "      <td>1</td>\n",
       "      <td>...</td>\n",
       "      <td>0</td>\n",
       "      <td>335.0</td>\n",
       "      <td>1</td>\n",
       "      <td>61</td>\n",
       "      <td>0.0</td>\n",
       "      <td>5.0</td>\n",
       "      <td>5.0</td>\n",
       "      <td>Jim</td>\n",
       "      <td>Beattie</td>\n",
       "      <td>470000.0</td>\n",
       "    </tr>\n",
       "  </tbody>\n",
       "</table>\n",
       "<p>5 rows × 33 columns</p>\n",
       "</div>"
      ],
      "text/plain": [
       "        playerID  yearID  stint teamID lgID   W   L   G  GS  CG  ...  BK  \\\n",
       "24989  alexado01    1985      1    TOR   AL  17  10  36  36   6  ...   0   \n",
       "24993  andujjo01    1985      1    SLN   NL  21  12  38  38  10  ...   0   \n",
       "24999  bannifl01    1985      1    CHA   AL  10  14  34  34   4  ...   0   \n",
       "25000  barkele01    1985      1    ATL   NL   2   9  20  18   0  ...   0   \n",
       "25004  beattji01    1985      1    SEA   AL   5   6  18  15   1  ...   0   \n",
       "\n",
       "          BFP  GF    R    SH   SF  GIDP  nameFirst   nameLast     salary  \n",
       "24989  1090.0   0  105   6.0  3.0  15.0      Doyle  Alexander   875000.0  \n",
       "24993  1127.0   0  113  11.0  4.0  32.0    Joaquin    Andujar  1030000.0  \n",
       "24999   928.0   0  121   9.0  8.0  20.0      Floyd  Bannister   811250.0  \n",
       "25000   335.0   1   55   4.0  1.0   4.0        Len     Barker   870000.0  \n",
       "25004   335.0   1   61   0.0  5.0   5.0        Jim    Beattie   470000.0  \n",
       "\n",
       "[5 rows x 33 columns]"
      ]
     },
     "metadata": {},
     "output_type": "display_data"
    },
    {
     "name": "stdout",
     "output_type": "stream",
     "text": [
      "\n",
      "\n",
      "Relief Pitcher Statistics\n"
     ]
    },
    {
     "data": {
      "text/html": [
       "<div>\n",
       "<style scoped>\n",
       "    .dataframe tbody tr th:only-of-type {\n",
       "        vertical-align: middle;\n",
       "    }\n",
       "\n",
       "    .dataframe tbody tr th {\n",
       "        vertical-align: top;\n",
       "    }\n",
       "\n",
       "    .dataframe thead th {\n",
       "        text-align: right;\n",
       "    }\n",
       "</style>\n",
       "<table border=\"1\" class=\"dataframe\">\n",
       "  <thead>\n",
       "    <tr style=\"text-align: right;\">\n",
       "      <th></th>\n",
       "      <th>playerID</th>\n",
       "      <th>yearID</th>\n",
       "      <th>stint</th>\n",
       "      <th>teamID</th>\n",
       "      <th>lgID</th>\n",
       "      <th>W</th>\n",
       "      <th>L</th>\n",
       "      <th>G</th>\n",
       "      <th>GS</th>\n",
       "      <th>CG</th>\n",
       "      <th>...</th>\n",
       "      <th>BK</th>\n",
       "      <th>BFP</th>\n",
       "      <th>GF</th>\n",
       "      <th>R</th>\n",
       "      <th>SH</th>\n",
       "      <th>SF</th>\n",
       "      <th>GIDP</th>\n",
       "      <th>nameFirst</th>\n",
       "      <th>nameLast</th>\n",
       "      <th>salary</th>\n",
       "    </tr>\n",
       "  </thead>\n",
       "  <tbody>\n",
       "    <tr>\n",
       "      <th>24986</th>\n",
       "      <td>ackerji01</td>\n",
       "      <td>1985</td>\n",
       "      <td>1</td>\n",
       "      <td>TOR</td>\n",
       "      <td>AL</td>\n",
       "      <td>7</td>\n",
       "      <td>2</td>\n",
       "      <td>61</td>\n",
       "      <td>0</td>\n",
       "      <td>0</td>\n",
       "      <td>...</td>\n",
       "      <td>0</td>\n",
       "      <td>370.0</td>\n",
       "      <td>26</td>\n",
       "      <td>35</td>\n",
       "      <td>1.0</td>\n",
       "      <td>2.0</td>\n",
       "      <td>16.0</td>\n",
       "      <td>Jim</td>\n",
       "      <td>Acker</td>\n",
       "      <td>170000.0</td>\n",
       "    </tr>\n",
       "    <tr>\n",
       "      <th>24987</th>\n",
       "      <td>agostju01</td>\n",
       "      <td>1985</td>\n",
       "      <td>1</td>\n",
       "      <td>CHA</td>\n",
       "      <td>AL</td>\n",
       "      <td>4</td>\n",
       "      <td>3</td>\n",
       "      <td>54</td>\n",
       "      <td>0</td>\n",
       "      <td>0</td>\n",
       "      <td>...</td>\n",
       "      <td>0</td>\n",
       "      <td>246.0</td>\n",
       "      <td>21</td>\n",
       "      <td>27</td>\n",
       "      <td>3.0</td>\n",
       "      <td>3.0</td>\n",
       "      <td>4.0</td>\n",
       "      <td>Juan</td>\n",
       "      <td>Agosto</td>\n",
       "      <td>147500.0</td>\n",
       "    </tr>\n",
       "    <tr>\n",
       "      <th>24990</th>\n",
       "      <td>allenne01</td>\n",
       "      <td>1985</td>\n",
       "      <td>1</td>\n",
       "      <td>SLN</td>\n",
       "      <td>NL</td>\n",
       "      <td>1</td>\n",
       "      <td>4</td>\n",
       "      <td>23</td>\n",
       "      <td>1</td>\n",
       "      <td>0</td>\n",
       "      <td>...</td>\n",
       "      <td>1</td>\n",
       "      <td>135.0</td>\n",
       "      <td>13</td>\n",
       "      <td>22</td>\n",
       "      <td>1.0</td>\n",
       "      <td>3.0</td>\n",
       "      <td>3.0</td>\n",
       "      <td>Neil</td>\n",
       "      <td>Allen</td>\n",
       "      <td>750000.0</td>\n",
       "    </tr>\n",
       "    <tr>\n",
       "      <th>24991</th>\n",
       "      <td>allenne01</td>\n",
       "      <td>1985</td>\n",
       "      <td>2</td>\n",
       "      <td>NYA</td>\n",
       "      <td>AL</td>\n",
       "      <td>1</td>\n",
       "      <td>0</td>\n",
       "      <td>17</td>\n",
       "      <td>0</td>\n",
       "      <td>0</td>\n",
       "      <td>...</td>\n",
       "      <td>0</td>\n",
       "      <td>124.0</td>\n",
       "      <td>10</td>\n",
       "      <td>9</td>\n",
       "      <td>0.0</td>\n",
       "      <td>0.0</td>\n",
       "      <td>3.0</td>\n",
       "      <td>Neil</td>\n",
       "      <td>Allen</td>\n",
       "      <td>750000.0</td>\n",
       "    </tr>\n",
       "    <tr>\n",
       "      <th>24992</th>\n",
       "      <td>anderla02</td>\n",
       "      <td>1985</td>\n",
       "      <td>1</td>\n",
       "      <td>PHI</td>\n",
       "      <td>NL</td>\n",
       "      <td>3</td>\n",
       "      <td>3</td>\n",
       "      <td>57</td>\n",
       "      <td>0</td>\n",
       "      <td>0</td>\n",
       "      <td>...</td>\n",
       "      <td>1</td>\n",
       "      <td>318.0</td>\n",
       "      <td>19</td>\n",
       "      <td>41</td>\n",
       "      <td>3.0</td>\n",
       "      <td>1.0</td>\n",
       "      <td>4.0</td>\n",
       "      <td>Larry</td>\n",
       "      <td>Andersen</td>\n",
       "      <td>250500.0</td>\n",
       "    </tr>\n",
       "  </tbody>\n",
       "</table>\n",
       "<p>5 rows × 33 columns</p>\n",
       "</div>"
      ],
      "text/plain": [
       "        playerID  yearID  stint teamID lgID  W  L   G  GS  CG  ...  BK    BFP  \\\n",
       "24986  ackerji01    1985      1    TOR   AL  7  2  61   0   0  ...   0  370.0   \n",
       "24987  agostju01    1985      1    CHA   AL  4  3  54   0   0  ...   0  246.0   \n",
       "24990  allenne01    1985      1    SLN   NL  1  4  23   1   0  ...   1  135.0   \n",
       "24991  allenne01    1985      2    NYA   AL  1  0  17   0   0  ...   0  124.0   \n",
       "24992  anderla02    1985      1    PHI   NL  3  3  57   0   0  ...   1  318.0   \n",
       "\n",
       "       GF   R   SH   SF  GIDP  nameFirst  nameLast    salary  \n",
       "24986  26  35  1.0  2.0  16.0        Jim     Acker  170000.0  \n",
       "24987  21  27  3.0  3.0   4.0       Juan    Agosto  147500.0  \n",
       "24990  13  22  1.0  3.0   3.0       Neil     Allen  750000.0  \n",
       "24991  10   9  0.0  0.0   3.0       Neil     Allen  750000.0  \n",
       "24992  19  41  3.0  1.0   4.0      Larry  Andersen  250500.0  \n",
       "\n",
       "[5 rows x 33 columns]"
      ]
     },
     "metadata": {},
     "output_type": "display_data"
    },
    {
     "data": {
      "text/plain": [
       "<matplotlib.legend.Legend at 0x7f17e9f9b6a0>"
      ]
     },
     "execution_count": 78,
     "metadata": {},
     "output_type": "execute_result"
    },
    {
     "data": {
      "image/png": "[encoded data removed]",
      "text/plain": [
       "<Figure size 432x288 with 1 Axes>"
      ]
     },
     "metadata": {
      "needs_background": "light"
     },
     "output_type": "display_data"
    }
   ],
   "source": [
    "# starting pitchers are all the pitchers that have at least 5 games started\n",
    "starting_pitchers = pitchers[pitchers[\"GS\"] >= 5]\n",
    "print(\"\\nStarting Pitcher Statistics\")\n",
    "display(starting_pitchers.head())\n",
    "# relief pitchers are all the pitchers that have less than 5 games started\n",
    "relief_pitchers = pitchers[pitchers[\"GS\"] < 5]\n",
    "print(\"\\n\\nRelief Pitcher Statistics\")\n",
    "display(relief_pitchers.head())\n",
    "\n",
    "# get mean starting pitcher salaries\n",
    "mean_starter_salaries = starting_pitchers.groupby(\"yearID\")[\"salary\"].mean()/1000\n",
    "# get mean relief pitchers salaries\n",
    "mean_relief_salaries = relief_pitchers.groupby(\"yearID\")[\"salary\"].mean()/1000\n",
    "\n",
    "# plot mean starting salaries and mean relief salaries over time\n",
    "mean_pitchers_plot = mean_starter_salaries.plot.line(legend=True)\n",
    "mean_relief_salaries.plot.line(ax=mean_pitchers_plot, legend=True)\n",
    "mean_pitchers_plot.set_title(\"Mean Pitcher Salaries Over Time\")\n",
    "mean_pitchers_plot.set_ylabel(\"Mean Salary (in thousands of dollars)\")\n",
    "mean_pitchers_plot.set_xlabel(\"Year\")\n",
    "mean_pitchers_plot.legend([\"Starting Pitchers\", \"Relief Pitchers\"])"
   ]
  },
  {
   "cell_type": "markdown",
   "metadata": {},
   "source": [
    "**This plot shows that starting pitchers are indeed valued more than relief pitchers since their salary has gotten progressivly larger than relief pitcher salary**"
   ]
  },
  {
   "cell_type": "markdown",
   "metadata": {},
   "source": [
    "## Compare Mean Batter Salary and Mean Starting Pitcher Salary"
   ]
  },
  {
   "cell_type": "markdown",
   "metadata": {},
   "source": [
    "**Now that we have seen that starting pitchers are valued much more than relief pitchers, we can compare starting pitchers and batters to see which one is valued more**"
   ]
  },
  {
   "cell_type": "code",
   "execution_count": 81,
   "metadata": {},
   "outputs": [
    {
     "data": {
      "text/plain": [
       "<matplotlib.legend.Legend at 0x7f17e9fe5240>"
      ]
     },
     "execution_count": 81,
     "metadata": {},
     "output_type": "execute_result"
    },
    {
     "data": {
      "image/png": "[encoded data removed]",
      "text/plain": [
       "<Figure size 432x288 with 1 Axes>"
      ]
     },
     "metadata": {
      "needs_background": "light"
     },
     "output_type": "display_data"
    }
   ],
   "source": [
    "# plot mean starting salaries and mean relief salaries over time\n",
    "mean_starters_plot = mean_starter_salaries.plot.line(legend=True)\n",
    "mean_batter_salaries.plot.line(ax=mean_starters_plot, legend=True)\n",
    "mean_starters_plot.set_title(\"Mean Salaries Over Time\")\n",
    "mean_starters_plot.set_ylabel(\"Mean Salary (in thousands of dollars)\")\n",
    "mean_starters_plot.set_xlabel(\"Year\")\n",
    "mean_starters_plot.legend([\"Starting Pitchers\", \"Batters\"])"
   ]
  },
  {
   "cell_type": "markdown",
   "metadata": {},
   "source": [
    "**This plot shows that while starting pitchers and batters were getting paid almost the same exact amount for many years, since 2011 starting pitchers have actually gotten paid more than batters, which shows that while batters are valued more than relief pitchers, starting pitchers have recently been valued more than batters**"
   ]
  },
  {
   "cell_type": "markdown",
   "metadata": {},
   "source": [
    "## Tracking Starting Pitching Statistics"
   ]
  },
  {
   "cell_type": "markdown",
   "metadata": {},
   "source": [
    "**Since starting pitchers have recently been getting paid more in the last five years, we want to see what is valued in a pitcher that causes them to get larger contracts.**"
   ]
  },
  {
   "cell_type": "code",
   "execution_count": 82,
   "metadata": {},
   "outputs": [
    {
     "data": {
      "text/plain": [
       "Text(0.5, 0, 'Year')"
      ]
     },
     "execution_count": 82,
     "metadata": {},
     "output_type": "execute_result"
    },
    {
     "data": {
      "image/png": "[encoded data removed]",
      "text/plain": [
       "<Figure size 432x288 with 1 Axes>"
      ]
     },
     "metadata": {
      "needs_background": "light"
     },
     "output_type": "display_data"
    }
   ],
   "source": [
    "# plot starting pitchers strikeouts over time\n",
    "starting_so = starting_pitchers.groupby(\"yearID\")[\"SO\"].sum()\n",
    "st_so_plot = starting_so.plot.line(title=\"Starting Pitcher Strikeouts Over Time\") \n",
    "st_so_plot.set_ylabel(\"Strikeouts\")\n",
    "st_so_plot.set_xlabel(\"Year\")"
   ]
  },
  {
   "cell_type": "markdown",
   "metadata": {},
   "source": [
    "**This graph strongly resembles the graph for all pitchers strikeouts, therefore there are no extra conclusions to be taken from this graph**"
   ]
  },
  {
   "cell_type": "code",
   "execution_count": 83,
   "metadata": {},
   "outputs": [
    {
     "data": {
      "text/plain": [
       "Text(0.5, 0, 'Year')"
      ]
     },
     "execution_count": 83,
     "metadata": {},
     "output_type": "execute_result"
    },
    {
     "data": {
      "image/png": "[encoded data removed]",
      "text/plain": [
       "<Figure size 432x288 with 1 Axes>"
      ]
     },
     "metadata": {
      "needs_background": "light"
     },
     "output_type": "display_data"
    }
   ],
   "source": [
    "# plot starting pitchers earned run average over time\n",
    "starting_era = starting_pitchers.groupby(\"yearID\")[\"ERA\"].mean()\n",
    "st_era_plot = starting_era.plot.line(title=\"Starting Pitcher Earned Run Average Over Time\") \n",
    "st_era_plot.set_ylabel(\"Earned Run Average\")\n",
    "st_era_plot.set_xlabel(\"Year\")"
   ]
  },
  {
   "cell_type": "markdown",
   "metadata": {},
   "source": [
    "**As with strikeouts, this graph also resembles the graph for all pitchers earned run average, therefore there is no conclusion that we can draw from this graph**"
   ]
  },
  {
   "cell_type": "markdown",
   "metadata": {},
   "source": [
    "**With starting pitchers, their record is an important statistic so we are going to include that in the study as an extra statistic to track**"
   ]
  },
  {
   "cell_type": "code",
   "execution_count": 84,
   "metadata": {},
   "outputs": [
    {
     "data": {
      "text/plain": [
       "Text(0.5, 0, 'Year')"
      ]
     },
     "execution_count": 84,
     "metadata": {},
     "output_type": "execute_result"
    },
    {
     "data": {
      "image/png": "[encoded data removed]",
      "text/plain": [
       "<Figure size 432x288 with 1 Axes>"
      ]
     },
     "metadata": {
      "needs_background": "light"
     },
     "output_type": "display_data"
    }
   ],
   "source": [
    "# Make new column called win percentage\n",
    "winpct = []\n",
    "for row in starting_pitchers.iterrows():\n",
    "    wins = row[1][\"W\"]\n",
    "    games = row[1][\"GS\"]\n",
    "    pct = wins/games\n",
    "    winpct = winpct + [pct]\n",
    "starting_pitchers[\"win percentage\"] = winpct\n",
    "\n",
    "# plot starting pitchers win percentage over time\n",
    "starting_winpct = starting_pitchers.groupby(\"yearID\")[\"win percentage\"].mean()\n",
    "st_winpct_plot = starting_winpct.plot.line(title=\"Starting Pitcher Win Percentage Over Time\") \n",
    "st_winpct_plot.set_ylabel(\"Win Percentage\")\n",
    "st_winpct_plot.set_xlabel(\"Year\")"
   ]
  },
  {
   "cell_type": "markdown",
   "metadata": {},
   "source": [
    "**According to this graph, we can see that starting pitcher win percentage has actually decreased over the years, so that is most likely not the reason that pitchers are being paid more, but that fact is not necessarily conclusive**"
   ]
  },
  {
   "cell_type": "markdown",
   "metadata": {},
   "source": [
    "**In conclusion for this section, since there is no concrete discovery that we can draw from these graphs, we will have to take a different approach in trying to discover why starting pitchers have been so valuable recently**"
   ]
  },
  {
   "cell_type": "markdown",
   "metadata": {},
   "source": [
    "## Identifying Statistics Leaders in the Last Five Years"
   ]
  },
  {
   "cell_type": "markdown",
   "metadata": {},
   "source": [
    "**We want to identify the league leaders at each position in the last five years to identify the prime statistic on which pitchers are paid**"
   ]
  },
  {
   "cell_type": "code",
   "execution_count": 91,
   "metadata": {},
   "outputs": [
    {
     "name": "stdout",
     "output_type": "stream",
     "text": [
      "\n",
      "Top 10 Leaders in ERA\n"
     ]
    },
    {
     "data": {
      "text/html": [
       "<div>\n",
       "<style scoped>\n",
       "    .dataframe tbody tr th:only-of-type {\n",
       "        vertical-align: middle;\n",
       "    }\n",
       "\n",
       "    .dataframe tbody tr th {\n",
       "        vertical-align: top;\n",
       "    }\n",
       "\n",
       "    .dataframe thead th {\n",
       "        text-align: right;\n",
       "    }\n",
       "</style>\n",
       "<table border=\"1\" class=\"dataframe\">\n",
       "  <thead>\n",
       "    <tr style=\"text-align: right;\">\n",
       "      <th></th>\n",
       "      <th>playerID</th>\n",
       "      <th>yearID</th>\n",
       "      <th>stint</th>\n",
       "      <th>teamID</th>\n",
       "      <th>lgID</th>\n",
       "      <th>W</th>\n",
       "      <th>L</th>\n",
       "      <th>G</th>\n",
       "      <th>GS</th>\n",
       "      <th>CG</th>\n",
       "      <th>...</th>\n",
       "      <th>BFP</th>\n",
       "      <th>GF</th>\n",
       "      <th>R</th>\n",
       "      <th>SH</th>\n",
       "      <th>SF</th>\n",
       "      <th>GIDP</th>\n",
       "      <th>nameFirst</th>\n",
       "      <th>nameLast</th>\n",
       "      <th>salary</th>\n",
       "      <th>win percentage</th>\n",
       "    </tr>\n",
       "  </thead>\n",
       "  <tbody>\n",
       "    <tr>\n",
       "      <th>41666</th>\n",
       "      <td>medlekr01</td>\n",
       "      <td>2012</td>\n",
       "      <td>1</td>\n",
       "      <td>ATL</td>\n",
       "      <td>NL</td>\n",
       "      <td>10</td>\n",
       "      <td>1</td>\n",
       "      <td>50</td>\n",
       "      <td>12</td>\n",
       "      <td>2</td>\n",
       "      <td>...</td>\n",
       "      <td>520.0</td>\n",
       "      <td>7</td>\n",
       "      <td>26</td>\n",
       "      <td>1.0</td>\n",
       "      <td>0.0</td>\n",
       "      <td>13.0</td>\n",
       "      <td>Kris</td>\n",
       "      <td>Medlen</td>\n",
       "      <td>490000.0</td>\n",
       "      <td>0.833333</td>\n",
       "    </tr>\n",
       "    <tr>\n",
       "      <th>43717</th>\n",
       "      <td>greinza01</td>\n",
       "      <td>2015</td>\n",
       "      <td>1</td>\n",
       "      <td>LAN</td>\n",
       "      <td>NL</td>\n",
       "      <td>19</td>\n",
       "      <td>3</td>\n",
       "      <td>32</td>\n",
       "      <td>32</td>\n",
       "      <td>1</td>\n",
       "      <td>...</td>\n",
       "      <td>843.0</td>\n",
       "      <td>0</td>\n",
       "      <td>43</td>\n",
       "      <td>6.0</td>\n",
       "      <td>2.0</td>\n",
       "      <td>15.0</td>\n",
       "      <td>Zack</td>\n",
       "      <td>Greinke</td>\n",
       "      <td>25000000.0</td>\n",
       "      <td>0.593750</td>\n",
       "    </tr>\n",
       "    <tr>\n",
       "      <th>41738</th>\n",
       "      <td>paulife01</td>\n",
       "      <td>2012</td>\n",
       "      <td>1</td>\n",
       "      <td>KCA</td>\n",
       "      <td>AL</td>\n",
       "      <td>3</td>\n",
       "      <td>1</td>\n",
       "      <td>7</td>\n",
       "      <td>7</td>\n",
       "      <td>0</td>\n",
       "      <td>...</td>\n",
       "      <td>156.0</td>\n",
       "      <td>0</td>\n",
       "      <td>8</td>\n",
       "      <td>1.0</td>\n",
       "      <td>1.0</td>\n",
       "      <td>1.0</td>\n",
       "      <td>Felipe</td>\n",
       "      <td>Paulino</td>\n",
       "      <td>1900000.0</td>\n",
       "      <td>0.428571</td>\n",
       "    </tr>\n",
       "    <tr>\n",
       "      <th>44618</th>\n",
       "      <td>kershcl01</td>\n",
       "      <td>2016</td>\n",
       "      <td>1</td>\n",
       "      <td>LAN</td>\n",
       "      <td>NL</td>\n",
       "      <td>12</td>\n",
       "      <td>4</td>\n",
       "      <td>21</td>\n",
       "      <td>21</td>\n",
       "      <td>3</td>\n",
       "      <td>...</td>\n",
       "      <td>544.0</td>\n",
       "      <td>0</td>\n",
       "      <td>31</td>\n",
       "      <td>4.0</td>\n",
       "      <td>1.0</td>\n",
       "      <td>9.0</td>\n",
       "      <td>Clayton</td>\n",
       "      <td>Kershaw</td>\n",
       "      <td>33000000.0</td>\n",
       "      <td>0.571429</td>\n",
       "    </tr>\n",
       "    <tr>\n",
       "      <th>43318</th>\n",
       "      <td>smylydr01</td>\n",
       "      <td>2014</td>\n",
       "      <td>2</td>\n",
       "      <td>TBA</td>\n",
       "      <td>AL</td>\n",
       "      <td>3</td>\n",
       "      <td>1</td>\n",
       "      <td>7</td>\n",
       "      <td>7</td>\n",
       "      <td>1</td>\n",
       "      <td>...</td>\n",
       "      <td>173.0</td>\n",
       "      <td>0</td>\n",
       "      <td>9</td>\n",
       "      <td>1.0</td>\n",
       "      <td>0.0</td>\n",
       "      <td>3.0</td>\n",
       "      <td>Drew</td>\n",
       "      <td>Smyly</td>\n",
       "      <td>520000.0</td>\n",
       "      <td>0.428571</td>\n",
       "    </tr>\n",
       "    <tr>\n",
       "      <th>42032</th>\n",
       "      <td>buchhcl01</td>\n",
       "      <td>2013</td>\n",
       "      <td>1</td>\n",
       "      <td>BOS</td>\n",
       "      <td>AL</td>\n",
       "      <td>12</td>\n",
       "      <td>1</td>\n",
       "      <td>16</td>\n",
       "      <td>16</td>\n",
       "      <td>1</td>\n",
       "      <td>...</td>\n",
       "      <td>416.0</td>\n",
       "      <td>0</td>\n",
       "      <td>23</td>\n",
       "      <td>1.0</td>\n",
       "      <td>2.0</td>\n",
       "      <td>14.0</td>\n",
       "      <td>Clay</td>\n",
       "      <td>Buchholz</td>\n",
       "      <td>5750000.0</td>\n",
       "      <td>0.750000</td>\n",
       "    </tr>\n",
       "    <tr>\n",
       "      <th>43033</th>\n",
       "      <td>kershcl01</td>\n",
       "      <td>2014</td>\n",
       "      <td>1</td>\n",
       "      <td>LAN</td>\n",
       "      <td>NL</td>\n",
       "      <td>21</td>\n",
       "      <td>3</td>\n",
       "      <td>27</td>\n",
       "      <td>27</td>\n",
       "      <td>6</td>\n",
       "      <td>...</td>\n",
       "      <td>749.0</td>\n",
       "      <td>0</td>\n",
       "      <td>42</td>\n",
       "      <td>6.0</td>\n",
       "      <td>1.0</td>\n",
       "      <td>15.0</td>\n",
       "      <td>Clayton</td>\n",
       "      <td>Kershaw</td>\n",
       "      <td>4000000.0</td>\n",
       "      <td>0.777778</td>\n",
       "    </tr>\n",
       "    <tr>\n",
       "      <th>43453</th>\n",
       "      <td>arrieja01</td>\n",
       "      <td>2015</td>\n",
       "      <td>1</td>\n",
       "      <td>CHN</td>\n",
       "      <td>NL</td>\n",
       "      <td>22</td>\n",
       "      <td>6</td>\n",
       "      <td>33</td>\n",
       "      <td>33</td>\n",
       "      <td>4</td>\n",
       "      <td>...</td>\n",
       "      <td>870.0</td>\n",
       "      <td>0</td>\n",
       "      <td>52</td>\n",
       "      <td>4.0</td>\n",
       "      <td>1.0</td>\n",
       "      <td>15.0</td>\n",
       "      <td>Jake</td>\n",
       "      <td>Arrieta</td>\n",
       "      <td>3630000.0</td>\n",
       "      <td>0.666667</td>\n",
       "    </tr>\n",
       "    <tr>\n",
       "      <th>42301</th>\n",
       "      <td>kershcl01</td>\n",
       "      <td>2013</td>\n",
       "      <td>1</td>\n",
       "      <td>LAN</td>\n",
       "      <td>NL</td>\n",
       "      <td>16</td>\n",
       "      <td>9</td>\n",
       "      <td>33</td>\n",
       "      <td>33</td>\n",
       "      <td>3</td>\n",
       "      <td>...</td>\n",
       "      <td>908.0</td>\n",
       "      <td>0</td>\n",
       "      <td>55</td>\n",
       "      <td>8.0</td>\n",
       "      <td>3.0</td>\n",
       "      <td>20.0</td>\n",
       "      <td>Clayton</td>\n",
       "      <td>Kershaw</td>\n",
       "      <td>11750000.0</td>\n",
       "      <td>0.484848</td>\n",
       "    </tr>\n",
       "    <tr>\n",
       "      <th>44568</th>\n",
       "      <td>hillri01</td>\n",
       "      <td>2016</td>\n",
       "      <td>2</td>\n",
       "      <td>LAN</td>\n",
       "      <td>NL</td>\n",
       "      <td>3</td>\n",
       "      <td>2</td>\n",
       "      <td>6</td>\n",
       "      <td>6</td>\n",
       "      <td>0</td>\n",
       "      <td>...</td>\n",
       "      <td>128.0</td>\n",
       "      <td>0</td>\n",
       "      <td>7</td>\n",
       "      <td>1.0</td>\n",
       "      <td>1.0</td>\n",
       "      <td>0.0</td>\n",
       "      <td>Rich</td>\n",
       "      <td>Hill</td>\n",
       "      <td>6000000.0</td>\n",
       "      <td>0.500000</td>\n",
       "    </tr>\n",
       "  </tbody>\n",
       "</table>\n",
       "<p>10 rows × 34 columns</p>\n",
       "</div>"
      ],
      "text/plain": [
       "        playerID  yearID  stint teamID lgID   W  L   G  GS  CG  ...    BFP  \\\n",
       "41666  medlekr01    2012      1    ATL   NL  10  1  50  12   2  ...  520.0   \n",
       "43717  greinza01    2015      1    LAN   NL  19  3  32  32   1  ...  843.0   \n",
       "41738  paulife01    2012      1    KCA   AL   3  1   7   7   0  ...  156.0   \n",
       "44618  kershcl01    2016      1    LAN   NL  12  4  21  21   3  ...  544.0   \n",
       "43318  smylydr01    2014      2    TBA   AL   3  1   7   7   1  ...  173.0   \n",
       "42032  buchhcl01    2013      1    BOS   AL  12  1  16  16   1  ...  416.0   \n",
       "43033  kershcl01    2014      1    LAN   NL  21  3  27  27   6  ...  749.0   \n",
       "43453  arrieja01    2015      1    CHN   NL  22  6  33  33   4  ...  870.0   \n",
       "42301  kershcl01    2013      1    LAN   NL  16  9  33  33   3  ...  908.0   \n",
       "44568   hillri01    2016      2    LAN   NL   3  2   6   6   0  ...  128.0   \n",
       "\n",
       "       GF   R   SH   SF  GIDP  nameFirst  nameLast      salary  win percentage  \n",
       "41666   7  26  1.0  0.0  13.0       Kris    Medlen    490000.0        0.833333  \n",
       "43717   0  43  6.0  2.0  15.0       Zack   Greinke  25000000.0        0.593750  \n",
       "41738   0   8  1.0  1.0   1.0     Felipe   Paulino   1900000.0        0.428571  \n",
       "44618   0  31  4.0  1.0   9.0    Clayton   Kershaw  33000000.0        0.571429  \n",
       "43318   0   9  1.0  0.0   3.0       Drew     Smyly    520000.0        0.428571  \n",
       "42032   0  23  1.0  2.0  14.0       Clay  Buchholz   5750000.0        0.750000  \n",
       "43033   0  42  6.0  1.0  15.0    Clayton   Kershaw   4000000.0        0.777778  \n",
       "43453   0  52  4.0  1.0  15.0       Jake   Arrieta   3630000.0        0.666667  \n",
       "42301   0  55  8.0  3.0  20.0    Clayton   Kershaw  11750000.0        0.484848  \n",
       "44568   0   7  1.0  1.0   0.0       Rich      Hill   6000000.0        0.500000  \n",
       "\n",
       "[10 rows x 34 columns]"
      ]
     },
     "metadata": {},
     "output_type": "display_data"
    },
    {
     "name": "stdout",
     "output_type": "stream",
     "text": [
      "\n",
      "\n",
      "Top 10 Leaders in Strikeouts\n"
     ]
    },
    {
     "data": {
      "text/html": [
       "<div>\n",
       "<style scoped>\n",
       "    .dataframe tbody tr th:only-of-type {\n",
       "        vertical-align: middle;\n",
       "    }\n",
       "\n",
       "    .dataframe tbody tr th {\n",
       "        vertical-align: top;\n",
       "    }\n",
       "\n",
       "    .dataframe thead th {\n",
       "        text-align: right;\n",
       "    }\n",
       "</style>\n",
       "<table border=\"1\" class=\"dataframe\">\n",
       "  <thead>\n",
       "    <tr style=\"text-align: right;\">\n",
       "      <th></th>\n",
       "      <th>playerID</th>\n",
       "      <th>yearID</th>\n",
       "      <th>stint</th>\n",
       "      <th>teamID</th>\n",
       "      <th>lgID</th>\n",
       "      <th>W</th>\n",
       "      <th>L</th>\n",
       "      <th>G</th>\n",
       "      <th>GS</th>\n",
       "      <th>CG</th>\n",
       "      <th>...</th>\n",
       "      <th>BFP</th>\n",
       "      <th>GF</th>\n",
       "      <th>R</th>\n",
       "      <th>SH</th>\n",
       "      <th>SF</th>\n",
       "      <th>GIDP</th>\n",
       "      <th>nameFirst</th>\n",
       "      <th>nameLast</th>\n",
       "      <th>salary</th>\n",
       "      <th>win percentage</th>\n",
       "    </tr>\n",
       "  </thead>\n",
       "  <tbody>\n",
       "    <tr>\n",
       "      <th>43821</th>\n",
       "      <td>kershcl01</td>\n",
       "      <td>2015</td>\n",
       "      <td>1</td>\n",
       "      <td>LAN</td>\n",
       "      <td>NL</td>\n",
       "      <td>16</td>\n",
       "      <td>7</td>\n",
       "      <td>33</td>\n",
       "      <td>33</td>\n",
       "      <td>4</td>\n",
       "      <td>...</td>\n",
       "      <td>890.0</td>\n",
       "      <td>0</td>\n",
       "      <td>62</td>\n",
       "      <td>4.0</td>\n",
       "      <td>0.0</td>\n",
       "      <td>8.0</td>\n",
       "      <td>Clayton</td>\n",
       "      <td>Kershaw</td>\n",
       "      <td>32571000.0</td>\n",
       "      <td>0.484848</td>\n",
       "    </tr>\n",
       "    <tr>\n",
       "      <th>44916</th>\n",
       "      <td>scherma01</td>\n",
       "      <td>2016</td>\n",
       "      <td>1</td>\n",
       "      <td>WAS</td>\n",
       "      <td>NL</td>\n",
       "      <td>20</td>\n",
       "      <td>7</td>\n",
       "      <td>34</td>\n",
       "      <td>34</td>\n",
       "      <td>1</td>\n",
       "      <td>...</td>\n",
       "      <td>902.0</td>\n",
       "      <td>0</td>\n",
       "      <td>77</td>\n",
       "      <td>7.0</td>\n",
       "      <td>3.0</td>\n",
       "      <td>6.0</td>\n",
       "      <td>Max</td>\n",
       "      <td>Scherzer</td>\n",
       "      <td>22142857.0</td>\n",
       "      <td>0.588235</td>\n",
       "    </tr>\n",
       "    <tr>\n",
       "      <th>42109</th>\n",
       "      <td>darviyu01</td>\n",
       "      <td>2013</td>\n",
       "      <td>1</td>\n",
       "      <td>TEX</td>\n",
       "      <td>AL</td>\n",
       "      <td>13</td>\n",
       "      <td>9</td>\n",
       "      <td>32</td>\n",
       "      <td>32</td>\n",
       "      <td>0</td>\n",
       "      <td>...</td>\n",
       "      <td>841.0</td>\n",
       "      <td>0</td>\n",
       "      <td>68</td>\n",
       "      <td>0.0</td>\n",
       "      <td>5.0</td>\n",
       "      <td>17.0</td>\n",
       "      <td>Yu</td>\n",
       "      <td>Darvish</td>\n",
       "      <td>9500000.0</td>\n",
       "      <td>0.406250</td>\n",
       "    </tr>\n",
       "    <tr>\n",
       "      <th>44108</th>\n",
       "      <td>scherma01</td>\n",
       "      <td>2015</td>\n",
       "      <td>1</td>\n",
       "      <td>WAS</td>\n",
       "      <td>NL</td>\n",
       "      <td>14</td>\n",
       "      <td>12</td>\n",
       "      <td>33</td>\n",
       "      <td>33</td>\n",
       "      <td>4</td>\n",
       "      <td>...</td>\n",
       "      <td>899.0</td>\n",
       "      <td>0</td>\n",
       "      <td>74</td>\n",
       "      <td>11.0</td>\n",
       "      <td>2.0</td>\n",
       "      <td>5.0</td>\n",
       "      <td>Max</td>\n",
       "      <td>Scherzer</td>\n",
       "      <td>17142000.0</td>\n",
       "      <td>0.424242</td>\n",
       "    </tr>\n",
       "    <tr>\n",
       "      <th>44097</th>\n",
       "      <td>salech01</td>\n",
       "      <td>2015</td>\n",
       "      <td>1</td>\n",
       "      <td>CHA</td>\n",
       "      <td>AL</td>\n",
       "      <td>13</td>\n",
       "      <td>11</td>\n",
       "      <td>31</td>\n",
       "      <td>31</td>\n",
       "      <td>1</td>\n",
       "      <td>...</td>\n",
       "      <td>854.0</td>\n",
       "      <td>0</td>\n",
       "      <td>88</td>\n",
       "      <td>2.0</td>\n",
       "      <td>3.0</td>\n",
       "      <td>13.0</td>\n",
       "      <td>Chris</td>\n",
       "      <td>Sale</td>\n",
       "      <td>6000000.0</td>\n",
       "      <td>0.419355</td>\n",
       "    </tr>\n",
       "    <tr>\n",
       "      <th>43040</th>\n",
       "      <td>klubeco01</td>\n",
       "      <td>2014</td>\n",
       "      <td>1</td>\n",
       "      <td>CLE</td>\n",
       "      <td>AL</td>\n",
       "      <td>18</td>\n",
       "      <td>9</td>\n",
       "      <td>34</td>\n",
       "      <td>34</td>\n",
       "      <td>3</td>\n",
       "      <td>...</td>\n",
       "      <td>951.0</td>\n",
       "      <td>0</td>\n",
       "      <td>72</td>\n",
       "      <td>5.0</td>\n",
       "      <td>2.0</td>\n",
       "      <td>16.0</td>\n",
       "      <td>Corey</td>\n",
       "      <td>Kluber</td>\n",
       "      <td>514000.0</td>\n",
       "      <td>0.529412</td>\n",
       "    </tr>\n",
       "    <tr>\n",
       "      <th>45006</th>\n",
       "      <td>verlaju01</td>\n",
       "      <td>2016</td>\n",
       "      <td>1</td>\n",
       "      <td>DET</td>\n",
       "      <td>AL</td>\n",
       "      <td>16</td>\n",
       "      <td>9</td>\n",
       "      <td>34</td>\n",
       "      <td>34</td>\n",
       "      <td>2</td>\n",
       "      <td>...</td>\n",
       "      <td>903.0</td>\n",
       "      <td>0</td>\n",
       "      <td>81</td>\n",
       "      <td>4.0</td>\n",
       "      <td>7.0</td>\n",
       "      <td>8.0</td>\n",
       "      <td>Justin</td>\n",
       "      <td>Verlander</td>\n",
       "      <td>28000000.0</td>\n",
       "      <td>0.470588</td>\n",
       "    </tr>\n",
       "    <tr>\n",
       "      <th>44460</th>\n",
       "      <td>fernajo02</td>\n",
       "      <td>2016</td>\n",
       "      <td>1</td>\n",
       "      <td>MIA</td>\n",
       "      <td>NL</td>\n",
       "      <td>16</td>\n",
       "      <td>8</td>\n",
       "      <td>29</td>\n",
       "      <td>29</td>\n",
       "      <td>0</td>\n",
       "      <td>...</td>\n",
       "      <td>737.0</td>\n",
       "      <td>0</td>\n",
       "      <td>63</td>\n",
       "      <td>7.0</td>\n",
       "      <td>5.0</td>\n",
       "      <td>14.0</td>\n",
       "      <td>Jose</td>\n",
       "      <td>Fernandez</td>\n",
       "      <td>2800000.0</td>\n",
       "      <td>0.551724</td>\n",
       "    </tr>\n",
       "    <tr>\n",
       "      <th>43297</th>\n",
       "      <td>scherma01</td>\n",
       "      <td>2014</td>\n",
       "      <td>1</td>\n",
       "      <td>DET</td>\n",
       "      <td>AL</td>\n",
       "      <td>18</td>\n",
       "      <td>5</td>\n",
       "      <td>33</td>\n",
       "      <td>33</td>\n",
       "      <td>1</td>\n",
       "      <td>...</td>\n",
       "      <td>904.0</td>\n",
       "      <td>0</td>\n",
       "      <td>80</td>\n",
       "      <td>4.0</td>\n",
       "      <td>8.0</td>\n",
       "      <td>15.0</td>\n",
       "      <td>Max</td>\n",
       "      <td>Scherzer</td>\n",
       "      <td>15525000.0</td>\n",
       "      <td>0.545455</td>\n",
       "    </tr>\n",
       "    <tr>\n",
       "      <th>43450</th>\n",
       "      <td>archech01</td>\n",
       "      <td>2015</td>\n",
       "      <td>1</td>\n",
       "      <td>TBA</td>\n",
       "      <td>AL</td>\n",
       "      <td>12</td>\n",
       "      <td>13</td>\n",
       "      <td>34</td>\n",
       "      <td>34</td>\n",
       "      <td>1</td>\n",
       "      <td>...</td>\n",
       "      <td>868.0</td>\n",
       "      <td>0</td>\n",
       "      <td>85</td>\n",
       "      <td>2.0</td>\n",
       "      <td>2.0</td>\n",
       "      <td>10.0</td>\n",
       "      <td>Chris</td>\n",
       "      <td>Archer</td>\n",
       "      <td>1166667.0</td>\n",
       "      <td>0.352941</td>\n",
       "    </tr>\n",
       "  </tbody>\n",
       "</table>\n",
       "<p>10 rows × 34 columns</p>\n",
       "</div>"
      ],
      "text/plain": [
       "        playerID  yearID  stint teamID lgID   W   L   G  GS  CG  ...    BFP  \\\n",
       "43821  kershcl01    2015      1    LAN   NL  16   7  33  33   4  ...  890.0   \n",
       "44916  scherma01    2016      1    WAS   NL  20   7  34  34   1  ...  902.0   \n",
       "42109  darviyu01    2013      1    TEX   AL  13   9  32  32   0  ...  841.0   \n",
       "44108  scherma01    2015      1    WAS   NL  14  12  33  33   4  ...  899.0   \n",
       "44097   salech01    2015      1    CHA   AL  13  11  31  31   1  ...  854.0   \n",
       "43040  klubeco01    2014      1    CLE   AL  18   9  34  34   3  ...  951.0   \n",
       "45006  verlaju01    2016      1    DET   AL  16   9  34  34   2  ...  903.0   \n",
       "44460  fernajo02    2016      1    MIA   NL  16   8  29  29   0  ...  737.0   \n",
       "43297  scherma01    2014      1    DET   AL  18   5  33  33   1  ...  904.0   \n",
       "43450  archech01    2015      1    TBA   AL  12  13  34  34   1  ...  868.0   \n",
       "\n",
       "       GF   R    SH   SF  GIDP  nameFirst   nameLast      salary  \\\n",
       "43821   0  62   4.0  0.0   8.0    Clayton    Kershaw  32571000.0   \n",
       "44916   0  77   7.0  3.0   6.0        Max   Scherzer  22142857.0   \n",
       "42109   0  68   0.0  5.0  17.0         Yu    Darvish   9500000.0   \n",
       "44108   0  74  11.0  2.0   5.0        Max   Scherzer  17142000.0   \n",
       "44097   0  88   2.0  3.0  13.0      Chris       Sale   6000000.0   \n",
       "43040   0  72   5.0  2.0  16.0      Corey     Kluber    514000.0   \n",
       "45006   0  81   4.0  7.0   8.0     Justin  Verlander  28000000.0   \n",
       "44460   0  63   7.0  5.0  14.0       Jose  Fernandez   2800000.0   \n",
       "43297   0  80   4.0  8.0  15.0        Max   Scherzer  15525000.0   \n",
       "43450   0  85   2.0  2.0  10.0      Chris     Archer   1166667.0   \n",
       "\n",
       "       win percentage  \n",
       "43821        0.484848  \n",
       "44916        0.588235  \n",
       "42109        0.406250  \n",
       "44108        0.424242  \n",
       "44097        0.419355  \n",
       "43040        0.529412  \n",
       "45006        0.470588  \n",
       "44460        0.551724  \n",
       "43297        0.545455  \n",
       "43450        0.352941  \n",
       "\n",
       "[10 rows x 34 columns]"
      ]
     },
     "metadata": {},
     "output_type": "display_data"
    },
    {
     "name": "stdout",
     "output_type": "stream",
     "text": [
      "\n",
      "\n",
      "Top 10 Leaders in Win Percentage\n"
     ]
    },
    {
     "data": {
      "text/html": [
       "<div>\n",
       "<style scoped>\n",
       "    .dataframe tbody tr th:only-of-type {\n",
       "        vertical-align: middle;\n",
       "    }\n",
       "\n",
       "    .dataframe tbody tr th {\n",
       "        vertical-align: top;\n",
       "    }\n",
       "\n",
       "    .dataframe thead th {\n",
       "        text-align: right;\n",
       "    }\n",
       "</style>\n",
       "<table border=\"1\" class=\"dataframe\">\n",
       "  <thead>\n",
       "    <tr style=\"text-align: right;\">\n",
       "      <th></th>\n",
       "      <th>playerID</th>\n",
       "      <th>yearID</th>\n",
       "      <th>stint</th>\n",
       "      <th>teamID</th>\n",
       "      <th>lgID</th>\n",
       "      <th>W</th>\n",
       "      <th>L</th>\n",
       "      <th>G</th>\n",
       "      <th>GS</th>\n",
       "      <th>CG</th>\n",
       "      <th>...</th>\n",
       "      <th>BFP</th>\n",
       "      <th>GF</th>\n",
       "      <th>R</th>\n",
       "      <th>SH</th>\n",
       "      <th>SF</th>\n",
       "      <th>GIDP</th>\n",
       "      <th>nameFirst</th>\n",
       "      <th>nameLast</th>\n",
       "      <th>salary</th>\n",
       "      <th>win percentage</th>\n",
       "    </tr>\n",
       "  </thead>\n",
       "  <tbody>\n",
       "    <tr>\n",
       "      <th>44820</th>\n",
       "      <td>phelpda01</td>\n",
       "      <td>2016</td>\n",
       "      <td>1</td>\n",
       "      <td>MIA</td>\n",
       "      <td>NL</td>\n",
       "      <td>7</td>\n",
       "      <td>6</td>\n",
       "      <td>64</td>\n",
       "      <td>5</td>\n",
       "      <td>0</td>\n",
       "      <td>...</td>\n",
       "      <td>352.0</td>\n",
       "      <td>6</td>\n",
       "      <td>23</td>\n",
       "      <td>1.0</td>\n",
       "      <td>2.0</td>\n",
       "      <td>7.0</td>\n",
       "      <td>David</td>\n",
       "      <td>Phelps</td>\n",
       "      <td>2500000.0</td>\n",
       "      <td>1.400000</td>\n",
       "    </tr>\n",
       "    <tr>\n",
       "      <th>44456</th>\n",
       "      <td>feldmsc01</td>\n",
       "      <td>2016</td>\n",
       "      <td>1</td>\n",
       "      <td>HOU</td>\n",
       "      <td>AL</td>\n",
       "      <td>5</td>\n",
       "      <td>3</td>\n",
       "      <td>26</td>\n",
       "      <td>5</td>\n",
       "      <td>0</td>\n",
       "      <td>...</td>\n",
       "      <td>265.0</td>\n",
       "      <td>9</td>\n",
       "      <td>27</td>\n",
       "      <td>4.0</td>\n",
       "      <td>3.0</td>\n",
       "      <td>4.0</td>\n",
       "      <td>Scott</td>\n",
       "      <td>Feldman</td>\n",
       "      <td>8000000.0</td>\n",
       "      <td>1.000000</td>\n",
       "    </tr>\n",
       "    <tr>\n",
       "      <th>43378</th>\n",
       "      <td>villaca01</td>\n",
       "      <td>2014</td>\n",
       "      <td>1</td>\n",
       "      <td>CHN</td>\n",
       "      <td>NL</td>\n",
       "      <td>5</td>\n",
       "      <td>7</td>\n",
       "      <td>42</td>\n",
       "      <td>5</td>\n",
       "      <td>0</td>\n",
       "      <td>...</td>\n",
       "      <td>343.0</td>\n",
       "      <td>15</td>\n",
       "      <td>42</td>\n",
       "      <td>3.0</td>\n",
       "      <td>2.0</td>\n",
       "      <td>3.0</td>\n",
       "      <td>Carlos</td>\n",
       "      <td>Villanueva</td>\n",
       "      <td>5000000.0</td>\n",
       "      <td>1.000000</td>\n",
       "    </tr>\n",
       "    <tr>\n",
       "      <th>43124</th>\n",
       "      <td>mejiaje01</td>\n",
       "      <td>2014</td>\n",
       "      <td>1</td>\n",
       "      <td>NYN</td>\n",
       "      <td>NL</td>\n",
       "      <td>6</td>\n",
       "      <td>6</td>\n",
       "      <td>63</td>\n",
       "      <td>7</td>\n",
       "      <td>0</td>\n",
       "      <td>...</td>\n",
       "      <td>417.0</td>\n",
       "      <td>49</td>\n",
       "      <td>41</td>\n",
       "      <td>2.0</td>\n",
       "      <td>0.0</td>\n",
       "      <td>10.0</td>\n",
       "      <td>Jenrry</td>\n",
       "      <td>Mejia</td>\n",
       "      <td>509675.0</td>\n",
       "      <td>0.857143</td>\n",
       "    </tr>\n",
       "    <tr>\n",
       "      <th>41666</th>\n",
       "      <td>medlekr01</td>\n",
       "      <td>2012</td>\n",
       "      <td>1</td>\n",
       "      <td>ATL</td>\n",
       "      <td>NL</td>\n",
       "      <td>10</td>\n",
       "      <td>1</td>\n",
       "      <td>50</td>\n",
       "      <td>12</td>\n",
       "      <td>2</td>\n",
       "      <td>...</td>\n",
       "      <td>520.0</td>\n",
       "      <td>7</td>\n",
       "      <td>26</td>\n",
       "      <td>1.0</td>\n",
       "      <td>0.0</td>\n",
       "      <td>13.0</td>\n",
       "      <td>Kris</td>\n",
       "      <td>Medlen</td>\n",
       "      <td>490000.0</td>\n",
       "      <td>0.833333</td>\n",
       "    </tr>\n",
       "    <tr>\n",
       "      <th>44760</th>\n",
       "      <td>nicasju01</td>\n",
       "      <td>2016</td>\n",
       "      <td>1</td>\n",
       "      <td>PIT</td>\n",
       "      <td>NL</td>\n",
       "      <td>10</td>\n",
       "      <td>7</td>\n",
       "      <td>52</td>\n",
       "      <td>12</td>\n",
       "      <td>0</td>\n",
       "      <td>...</td>\n",
       "      <td>513.0</td>\n",
       "      <td>9</td>\n",
       "      <td>64</td>\n",
       "      <td>5.0</td>\n",
       "      <td>7.0</td>\n",
       "      <td>8.0</td>\n",
       "      <td>Juan</td>\n",
       "      <td>Nicasio</td>\n",
       "      <td>3000000.0</td>\n",
       "      <td>0.833333</td>\n",
       "    </tr>\n",
       "    <tr>\n",
       "      <th>44017</th>\n",
       "      <td>priceda01</td>\n",
       "      <td>2015</td>\n",
       "      <td>2</td>\n",
       "      <td>TOR</td>\n",
       "      <td>AL</td>\n",
       "      <td>9</td>\n",
       "      <td>1</td>\n",
       "      <td>11</td>\n",
       "      <td>11</td>\n",
       "      <td>0</td>\n",
       "      <td>...</td>\n",
       "      <td>296.0</td>\n",
       "      <td>0</td>\n",
       "      <td>20</td>\n",
       "      <td>0.0</td>\n",
       "      <td>3.0</td>\n",
       "      <td>4.0</td>\n",
       "      <td>David</td>\n",
       "      <td>Price</td>\n",
       "      <td>19750000.0</td>\n",
       "      <td>0.818182</td>\n",
       "    </tr>\n",
       "    <tr>\n",
       "      <th>43305</th>\n",
       "      <td>shoemma01</td>\n",
       "      <td>2014</td>\n",
       "      <td>1</td>\n",
       "      <td>LAA</td>\n",
       "      <td>AL</td>\n",
       "      <td>16</td>\n",
       "      <td>4</td>\n",
       "      <td>27</td>\n",
       "      <td>20</td>\n",
       "      <td>0</td>\n",
       "      <td>...</td>\n",
       "      <td>543.0</td>\n",
       "      <td>5</td>\n",
       "      <td>49</td>\n",
       "      <td>3.0</td>\n",
       "      <td>5.0</td>\n",
       "      <td>9.0</td>\n",
       "      <td>Matt</td>\n",
       "      <td>Shoemaker</td>\n",
       "      <td>500500.0</td>\n",
       "      <td>0.800000</td>\n",
       "    </tr>\n",
       "    <tr>\n",
       "      <th>44671</th>\n",
       "      <td>lylesjo01</td>\n",
       "      <td>2016</td>\n",
       "      <td>1</td>\n",
       "      <td>COL</td>\n",
       "      <td>NL</td>\n",
       "      <td>4</td>\n",
       "      <td>5</td>\n",
       "      <td>40</td>\n",
       "      <td>5</td>\n",
       "      <td>0</td>\n",
       "      <td>...</td>\n",
       "      <td>273.0</td>\n",
       "      <td>7</td>\n",
       "      <td>46</td>\n",
       "      <td>1.0</td>\n",
       "      <td>2.0</td>\n",
       "      <td>6.0</td>\n",
       "      <td>Jordan</td>\n",
       "      <td>Lyles</td>\n",
       "      <td>2975000.0</td>\n",
       "      <td>0.800000</td>\n",
       "    </tr>\n",
       "    <tr>\n",
       "      <th>43033</th>\n",
       "      <td>kershcl01</td>\n",
       "      <td>2014</td>\n",
       "      <td>1</td>\n",
       "      <td>LAN</td>\n",
       "      <td>NL</td>\n",
       "      <td>21</td>\n",
       "      <td>3</td>\n",
       "      <td>27</td>\n",
       "      <td>27</td>\n",
       "      <td>6</td>\n",
       "      <td>...</td>\n",
       "      <td>749.0</td>\n",
       "      <td>0</td>\n",
       "      <td>42</td>\n",
       "      <td>6.0</td>\n",
       "      <td>1.0</td>\n",
       "      <td>15.0</td>\n",
       "      <td>Clayton</td>\n",
       "      <td>Kershaw</td>\n",
       "      <td>4000000.0</td>\n",
       "      <td>0.777778</td>\n",
       "    </tr>\n",
       "  </tbody>\n",
       "</table>\n",
       "<p>10 rows × 34 columns</p>\n",
       "</div>"
      ],
      "text/plain": [
       "        playerID  yearID  stint teamID lgID   W  L   G  GS  CG  ...    BFP  \\\n",
       "44820  phelpda01    2016      1    MIA   NL   7  6  64   5   0  ...  352.0   \n",
       "44456  feldmsc01    2016      1    HOU   AL   5  3  26   5   0  ...  265.0   \n",
       "43378  villaca01    2014      1    CHN   NL   5  7  42   5   0  ...  343.0   \n",
       "43124  mejiaje01    2014      1    NYN   NL   6  6  63   7   0  ...  417.0   \n",
       "41666  medlekr01    2012      1    ATL   NL  10  1  50  12   2  ...  520.0   \n",
       "44760  nicasju01    2016      1    PIT   NL  10  7  52  12   0  ...  513.0   \n",
       "44017  priceda01    2015      2    TOR   AL   9  1  11  11   0  ...  296.0   \n",
       "43305  shoemma01    2014      1    LAA   AL  16  4  27  20   0  ...  543.0   \n",
       "44671  lylesjo01    2016      1    COL   NL   4  5  40   5   0  ...  273.0   \n",
       "43033  kershcl01    2014      1    LAN   NL  21  3  27  27   6  ...  749.0   \n",
       "\n",
       "       GF   R   SH   SF  GIDP  nameFirst    nameLast      salary  \\\n",
       "44820   6  23  1.0  2.0   7.0      David      Phelps   2500000.0   \n",
       "44456   9  27  4.0  3.0   4.0      Scott     Feldman   8000000.0   \n",
       "43378  15  42  3.0  2.0   3.0     Carlos  Villanueva   5000000.0   \n",
       "43124  49  41  2.0  0.0  10.0     Jenrry       Mejia    509675.0   \n",
       "41666   7  26  1.0  0.0  13.0       Kris      Medlen    490000.0   \n",
       "44760   9  64  5.0  7.0   8.0       Juan     Nicasio   3000000.0   \n",
       "44017   0  20  0.0  3.0   4.0      David       Price  19750000.0   \n",
       "43305   5  49  3.0  5.0   9.0       Matt   Shoemaker    500500.0   \n",
       "44671   7  46  1.0  2.0   6.0     Jordan       Lyles   2975000.0   \n",
       "43033   0  42  6.0  1.0  15.0    Clayton     Kershaw   4000000.0   \n",
       "\n",
       "       win percentage  \n",
       "44820        1.400000  \n",
       "44456        1.000000  \n",
       "43378        1.000000  \n",
       "43124        0.857143  \n",
       "41666        0.833333  \n",
       "44760        0.833333  \n",
       "44017        0.818182  \n",
       "43305        0.800000  \n",
       "44671        0.800000  \n",
       "43033        0.777778  \n",
       "\n",
       "[10 rows x 34 columns]"
      ]
     },
     "metadata": {},
     "output_type": "display_data"
    },
    {
     "data": {
      "text/plain": [
       "Text(0, 0.5, 'Salary')"
      ]
     },
     "execution_count": 91,
     "metadata": {},
     "output_type": "execute_result"
    },
    {
     "data": {
      "image/png": "[encoded data removed]",
      "text/plain": [
       "<Figure size 432x288 with 1 Axes>"
      ]
     },
     "metadata": {
      "needs_background": "light"
     },
     "output_type": "display_data"
    }
   ],
   "source": [
    "# get data frame with starting pitchers just from the last five years\n",
    "starting_pitchers_recent = starting_pitchers[starting_pitchers[\"yearID\"] > 2011]\n",
    "\n",
    "# take top 100 earned run average pitcher seasons \n",
    "era_leaders = starting_pitchers_recent.sort_values(by=[\"ERA\"])[:100]\n",
    "print (\"\\nTop 10 Leaders in ERA\")\n",
    "display(era_leaders[:10])\n",
    "# take the mean salary for these pitchers\n",
    "mean_era_salary = era_leaders[\"salary\"].mean()\n",
    "\n",
    "# take top 100 strikeout pitcher seasons \n",
    "so_leaders = starting_pitchers_recent.sort_values(by=[\"SO\"], ascending=False)[:100]\n",
    "print (\"\\n\\nTop 10 Leaders in Strikeouts\")\n",
    "display(so_leaders[:10])\n",
    "# take the mean salary for these pitchers\n",
    "mean_so_salary = so_leaders[\"salary\"].mean()\n",
    "\n",
    "# take top 100 win percentage pitcher seasons \n",
    "winpct_leaders = starting_pitchers_recent.sort_values(by=[\"win percentage\"], ascending=False)[:100]\n",
    "print (\"\\n\\nTop 10 Leaders in Win Percentage\")\n",
    "display(winpct_leaders[:10])\n",
    "# take the mean salary for these pitchers\n",
    "mean_winpct_salary = winpct_leaders[\"salary\"].mean()\n",
    "\n",
    "data = [mean_era_salary, mean_so_salary, mean_winpct_salary]\n",
    "ind = [\"ERA\", \"Strikeouts\", \"Win Pct\"]\n",
    "mean_salary = pd.Series(data, index=ind) \n",
    "mean_statistic_bar = mean_salary.plot.bar(title=\"Mean Salary for Statistic Leaders\")\n",
    "mean_statistic_bar.set_ylabel(\"Salary\")"
   ]
  },
  {
   "cell_type": "markdown",
   "metadata": {},
   "source": [
    "**From this bar graph, it is clear to see that teams value strikeouts more than earned run average and win percentage, most likely because strikeouts are one of the main measures of a pitchers ability to complete dominate batters**"
   ]
  },
  {
   "cell_type": "markdown",
   "metadata": {},
   "source": [
    "## Retrieve and Tidy Team Data"
   ]
  },
  {
   "cell_type": "markdown",
   "metadata": {},
   "source": [
    "**I need to retrieve the teams data from Teams.csv because I will need data about their wins and losses from the past five years**"
   ]
  },
  {
   "cell_type": "code",
   "execution_count": 106,
   "metadata": {},
   "outputs": [
    {
     "data": {
      "text/html": [
       "<div>\n",
       "<style scoped>\n",
       "    .dataframe tbody tr th:only-of-type {\n",
       "        vertical-align: middle;\n",
       "    }\n",
       "\n",
       "    .dataframe tbody tr th {\n",
       "        vertical-align: top;\n",
       "    }\n",
       "\n",
       "    .dataframe thead th {\n",
       "        text-align: right;\n",
       "    }\n",
       "</style>\n",
       "<table border=\"1\" class=\"dataframe\">\n",
       "  <thead>\n",
       "    <tr style=\"text-align: right;\">\n",
       "      <th></th>\n",
       "      <th>yearID</th>\n",
       "      <th>lgID</th>\n",
       "      <th>teamID</th>\n",
       "      <th>franchID</th>\n",
       "      <th>divID</th>\n",
       "      <th>Rank</th>\n",
       "      <th>G</th>\n",
       "      <th>Ghome</th>\n",
       "      <th>W</th>\n",
       "      <th>L</th>\n",
       "      <th>...</th>\n",
       "      <th>FP</th>\n",
       "      <th>name</th>\n",
       "      <th>park</th>\n",
       "      <th>attendance</th>\n",
       "      <th>BPF</th>\n",
       "      <th>PPF</th>\n",
       "      <th>teamIDBR</th>\n",
       "      <th>teamIDlahman45</th>\n",
       "      <th>teamIDretro</th>\n",
       "      <th>Win Percentage</th>\n",
       "    </tr>\n",
       "  </thead>\n",
       "  <tbody>\n",
       "    <tr>\n",
       "      <th>2685</th>\n",
       "      <td>2012</td>\n",
       "      <td>NL</td>\n",
       "      <td>ARI</td>\n",
       "      <td>ARI</td>\n",
       "      <td>W</td>\n",
       "      <td>3</td>\n",
       "      <td>162</td>\n",
       "      <td>81.0</td>\n",
       "      <td>81</td>\n",
       "      <td>81</td>\n",
       "      <td>...</td>\n",
       "      <td>0.985</td>\n",
       "      <td>Arizona Diamondbacks</td>\n",
       "      <td>Chase Field</td>\n",
       "      <td>2177617.0</td>\n",
       "      <td>105</td>\n",
       "      <td>106</td>\n",
       "      <td>ARI</td>\n",
       "      <td>ARI</td>\n",
       "      <td>ARI</td>\n",
       "      <td>0.500000</td>\n",
       "    </tr>\n",
       "    <tr>\n",
       "      <th>2686</th>\n",
       "      <td>2012</td>\n",
       "      <td>NL</td>\n",
       "      <td>ATL</td>\n",
       "      <td>ATL</td>\n",
       "      <td>E</td>\n",
       "      <td>2</td>\n",
       "      <td>162</td>\n",
       "      <td>81.0</td>\n",
       "      <td>94</td>\n",
       "      <td>68</td>\n",
       "      <td>...</td>\n",
       "      <td>0.986</td>\n",
       "      <td>Atlanta Braves</td>\n",
       "      <td>Turner Field</td>\n",
       "      <td>2420171.0</td>\n",
       "      <td>102</td>\n",
       "      <td>101</td>\n",
       "      <td>ATL</td>\n",
       "      <td>ATL</td>\n",
       "      <td>ATL</td>\n",
       "      <td>0.580247</td>\n",
       "    </tr>\n",
       "    <tr>\n",
       "      <th>2687</th>\n",
       "      <td>2012</td>\n",
       "      <td>AL</td>\n",
       "      <td>BAL</td>\n",
       "      <td>BAL</td>\n",
       "      <td>E</td>\n",
       "      <td>2</td>\n",
       "      <td>162</td>\n",
       "      <td>81.0</td>\n",
       "      <td>93</td>\n",
       "      <td>69</td>\n",
       "      <td>...</td>\n",
       "      <td>0.983</td>\n",
       "      <td>Baltimore Orioles</td>\n",
       "      <td>Oriole Park at Camden Yards</td>\n",
       "      <td>2102240.0</td>\n",
       "      <td>102</td>\n",
       "      <td>103</td>\n",
       "      <td>BAL</td>\n",
       "      <td>BAL</td>\n",
       "      <td>BAL</td>\n",
       "      <td>0.574074</td>\n",
       "    </tr>\n",
       "    <tr>\n",
       "      <th>2688</th>\n",
       "      <td>2012</td>\n",
       "      <td>AL</td>\n",
       "      <td>BOS</td>\n",
       "      <td>BOS</td>\n",
       "      <td>E</td>\n",
       "      <td>5</td>\n",
       "      <td>162</td>\n",
       "      <td>81.0</td>\n",
       "      <td>69</td>\n",
       "      <td>93</td>\n",
       "      <td>...</td>\n",
       "      <td>0.983</td>\n",
       "      <td>Boston Red Sox</td>\n",
       "      <td>Fenway Park II</td>\n",
       "      <td>3043003.0</td>\n",
       "      <td>106</td>\n",
       "      <td>106</td>\n",
       "      <td>BOS</td>\n",
       "      <td>BOS</td>\n",
       "      <td>BOS</td>\n",
       "      <td>0.425926</td>\n",
       "    </tr>\n",
       "    <tr>\n",
       "      <th>2689</th>\n",
       "      <td>2012</td>\n",
       "      <td>AL</td>\n",
       "      <td>CHA</td>\n",
       "      <td>CHW</td>\n",
       "      <td>C</td>\n",
       "      <td>2</td>\n",
       "      <td>162</td>\n",
       "      <td>81.0</td>\n",
       "      <td>85</td>\n",
       "      <td>77</td>\n",
       "      <td>...</td>\n",
       "      <td>0.988</td>\n",
       "      <td>Chicago White Sox</td>\n",
       "      <td>U.S. Cellular Field</td>\n",
       "      <td>1965955.0</td>\n",
       "      <td>106</td>\n",
       "      <td>106</td>\n",
       "      <td>CHW</td>\n",
       "      <td>CHA</td>\n",
       "      <td>CHA</td>\n",
       "      <td>0.524691</td>\n",
       "    </tr>\n",
       "  </tbody>\n",
       "</table>\n",
       "<p>5 rows × 49 columns</p>\n",
       "</div>"
      ],
      "text/plain": [
       "      yearID lgID teamID franchID divID  Rank    G  Ghome   W   L  ...     FP  \\\n",
       "2685    2012   NL    ARI      ARI     W     3  162   81.0  81  81  ...  0.985   \n",
       "2686    2012   NL    ATL      ATL     E     2  162   81.0  94  68  ...  0.986   \n",
       "2687    2012   AL    BAL      BAL     E     2  162   81.0  93  69  ...  0.983   \n",
       "2688    2012   AL    BOS      BOS     E     5  162   81.0  69  93  ...  0.983   \n",
       "2689    2012   AL    CHA      CHW     C     2  162   81.0  85  77  ...  0.988   \n",
       "\n",
       "                      name                         park attendance  BPF  PPF  \\\n",
       "2685  Arizona Diamondbacks                  Chase Field  2177617.0  105  106   \n",
       "2686        Atlanta Braves                 Turner Field  2420171.0  102  101   \n",
       "2687     Baltimore Orioles  Oriole Park at Camden Yards  2102240.0  102  103   \n",
       "2688        Boston Red Sox               Fenway Park II  3043003.0  106  106   \n",
       "2689     Chicago White Sox          U.S. Cellular Field  1965955.0  106  106   \n",
       "\n",
       "      teamIDBR  teamIDlahman45  teamIDretro  Win Percentage  \n",
       "2685       ARI             ARI          ARI        0.500000  \n",
       "2686       ATL             ATL          ATL        0.580247  \n",
       "2687       BAL             BAL          BAL        0.574074  \n",
       "2688       BOS             BOS          BOS        0.425926  \n",
       "2689       CHW             CHA          CHA        0.524691  \n",
       "\n",
       "[5 rows x 49 columns]"
      ]
     },
     "metadata": {},
     "output_type": "display_data"
    }
   ],
   "source": [
    "# read in teams data from csv file\n",
    "teams = pd.read_csv(\"./data/Teams.csv\")\n",
    "# cut out all of the records that are in the year 2011 or before\n",
    "recent_teams = teams[teams[\"yearID\"] > 2011]\n",
    "\n",
    "# create new column win percentage\n",
    "winpcts = []\n",
    "for row in recent_teams.iterrows():\n",
    "    wins = row[1][\"W\"]\n",
    "    games = row[1][\"G\"]\n",
    "    pct = wins/games\n",
    "    winpcts = winpcts + [pct]\n",
    "recent_teams[\"Win Percentage\"] = winpcts\n",
    "\n",
    "# display teams dataframe\n",
    "display(recent_teams.head())"
   ]
  },
  {
   "cell_type": "markdown",
   "metadata": {},
   "source": [
    "## View Relationship between Starting Pitcher Salary and Win Percentage"
   ]
  },
  {
   "cell_type": "markdown",
   "metadata": {},
   "source": [
    "**We want to see the amount of money that each team spends on their starting pitching staff in the past five years**"
   ]
  },
  {
   "cell_type": "code",
   "execution_count": 124,
   "metadata": {},
   "outputs": [
    {
     "data": {
      "text/plain": [
       "Text(0, 0.5, 'Mean Salary (in thousands of dollars)')"
      ]
     },
     "execution_count": 124,
     "metadata": {},
     "output_type": "execute_result"
    },
    {
     "data": {
      "image/png": "[encoded data removed]",
      "text/plain": [
       "<Figure size 432x288 with 1 Axes>"
      ]
     },
     "metadata": {
      "needs_background": "light"
     },
     "output_type": "display_data"
    }
   ],
   "source": [
    "# get mean starting pitcher salary for each team from the past five years\n",
    "team_starter_salaries = starting_pitchers_recent.groupby([\"teamID\", \"yearID\"])[\"salary\"].mean()\n",
    "mean_team_starter_salaries = team_starter_salaries.groupby(\"teamID\").mean()/1000\n",
    "\n",
    "# plot salaries on a bar graph\n",
    "team_salary_bar = mean_team_starter_salaries.plot.bar(title = \"Mean Starting Pitcher Salary in the Past Five Years\")\n",
    "team_salary_bar.set_ylabel(\"Mean Salary (in thousands of dollars)\")"
   ]
  },
  {
   "cell_type": "markdown",
   "metadata": {},
   "source": [
    "**From this bar graph, it is clear than teams such as the San Francisco Giants, the Detroit Tigers, and the Los Angeles Dodgers have all spent a lot of money on starting pitching. However, this information is not useful until we can see this spending as a proportion of their total payroll**"
   ]
  },
  {
   "cell_type": "code",
   "execution_count": 130,
   "metadata": {},
   "outputs": [
    {
     "data": {
      "text/plain": [
       "Text(0.5, 1.0, 'Proportion of Payroll Spent on Starting Pitching in Last Five Years')"
      ]
     },
     "execution_count": 130,
     "metadata": {},
     "output_type": "execute_result"
    },
    {
     "data": {
      "image/png": "[encoded data removed]",
      "text/plain": [
       "<Figure size 432x288 with 1 Axes>"
      ]
     },
     "metadata": {
      "needs_background": "light"
     },
     "output_type": "display_data"
    }
   ],
   "source": [
    "# get dataframe with recent relief pitching\n",
    "recent_relief_pitching = relief_pitchers[relief_pitchers[\"yearID\"] > 2011]\n",
    "\n",
    "# get dataframe with recent batting\n",
    "recent_batting = batters[batters[\"yearID\"] > 2011]\n",
    "\n",
    "# get series with mean relief pitcher salaries\n",
    "team_reliever_salaries = recent_relief_pitching.groupby([\"teamID\", \"yearID\"])[\"salary\"].mean()\n",
    "mean_team_reliever_salaries = team_reliever_salaries.groupby(\"teamID\").mean()/1000\n",
    "\n",
    "# get series with mean batting salaries\n",
    "team_batting_salaries = recent_batting.groupby([\"teamID\", \"yearID\"])[\"salary\"].mean()\n",
    "mean_team_batting_salaries = team_batting_salaries.groupby(\"teamID\").mean()/1000\n",
    "\n",
    "# get series with mean total salary\n",
    "mean_total_salaries = mean_team_starter_salaries + mean_team_reliever_salaries + mean_team_batting_salaries\n",
    "\n",
    "# get series with proportion of payroll spent on starting pitching\n",
    "proportion_starter_salary = mean_team_starter_salaries/mean_total_salaries\n",
    "\n",
    "# plot the proportion series\n",
    "proportion_plot = proportion_starter_salary.plot.bar()\n",
    "proportion_plot.set_title(\"Proportion of Payroll Spent on Starting Pitching in Last Five Years\")"
   ]
  },
  {
   "cell_type": "markdown",
   "metadata": {},
   "source": [
    "**With this graph it now gives an entirely new picture and we can see that while it is true that the San Francisco Giants are still at the top with their spending on starting pitching, the Philadelphia Phillies spend just as much and they weren't even top 3 on the last graph**"
   ]
  },
  {
   "cell_type": "markdown",
   "metadata": {},
   "source": [
    "**Now that we have seen how much each team spends on starting pitching, we also want to see how this correlates with their winning percentage**"
   ]
  },
  {
   "cell_type": "code",
   "execution_count": 163,
   "metadata": {},
   "outputs": [
    {
     "data": {
      "text/plain": [
       "<matplotlib.axes._subplots.AxesSubplot at 0x7f17e39e2d68>"
      ]
     },
     "execution_count": 163,
     "metadata": {},
     "output_type": "execute_result"
    },
    {
     "data": {
      "image/png": "[encoded data removed]",
      "text/plain": [
       "<Figure size 576x432 with 1 Axes>"
      ]
     },
     "metadata": {
      "needs_background": "light"
     },
     "output_type": "display_data"
    }
   ],
   "source": [
    "# get mean winning percentage for each time in the last five years\n",
    "team_winning_pct = recent_teams.groupby(\"teamID\")[\"Win Percentage\"].mean()\n",
    "# combine the two series into one dataframe\n",
    "percentage_df = pd.concat([proportion_starter_salary, team_winning_pct], axis=1)\n",
    "# rename win percentage column\n",
    "percentage_df = percentage_df.rename(columns={'Win Percentage': 'win percentage', 'salary':'starting pitcher salary proportion'})\n",
    "# make bar plot with winning percentage and salary\n",
    "percentage_df.plot.bar(title = \"Winning Percentage Compared to Proportion of Payroll Spent on Starters\",figsize=(8,6))\n"
   ]
  },
  {
   "cell_type": "markdown",
   "metadata": {},
   "source": [
    "**This bar graph does not necessarily give us anything conclusive about the relationship between winning percentage and proportion of payroll spent on starting pitchers, so instead we can try to make a scatter plot to see the correlation**"
   ]
  },
  {
   "cell_type": "code",
   "execution_count": 164,
   "metadata": {},
   "outputs": [
    {
     "data": {
      "text/plain": [
       "Text(0.5, 1.0, 'Winning Percentage Compared to Proportion of Payroll Spent on Starters')"
      ]
     },
     "execution_count": 164,
     "metadata": {},
     "output_type": "execute_result"
    },
    {
     "data": {
      "image/png": "[encoded data removed]",
      "text/plain": [
       "<Figure size 432x288 with 1 Axes>"
      ]
     },
     "metadata": {
      "needs_background": "light"
     },
     "output_type": "display_data"
    }
   ],
   "source": [
    "plt.figure()\n",
    "plt.scatter(percentage_df[\"win percentage\"], percentage_df[\"starting pitcher salary proportion\"])\n",
    "# add team label to each point\n",
    "for row in percentage_df.iterrows():\n",
    "    x = row[1][\"win percentage\"]\n",
    "    y = row[1][\"starting pitcher salary proportion\"]\n",
    "    val = row[0]\n",
    "    plt.annotate(val, (x,y))\n",
    "# add labels and title for the plot\n",
    "plt.ylabel(\"starting pitcher salary proportion\")\n",
    "plt.xlabel(\"win percentage\")\n",
    "plt.title(\"Winning Percentage Compared to Proportion of Payroll Spent on Starters\")"
   ]
  },
  {
   "cell_type": "markdown",
   "metadata": {},
   "source": [
    "**There does not seem to be much correlation between win percentage and starting pitcher salary, so let's take a look at the relief pitcher salary proportion and the batter salary proportion**"
   ]
  },
  {
   "cell_type": "code",
   "execution_count": 167,
   "metadata": {},
   "outputs": [
    {
     "data": {
      "text/plain": [
       "Text(0.5, 1.0, 'Winning Percentage Compared to Proportion of Payroll Spent on Batters')"
      ]
     },
     "execution_count": 167,
     "metadata": {},
     "output_type": "execute_result"
    },
    {
     "data": {
      "image/png": "[encoded data removed]",
      "text/plain": [
       "<Figure size 432x288 with 1 Axes>"
      ]
     },
     "metadata": {
      "needs_background": "light"
     },
     "output_type": "display_data"
    },
    {
     "data": {
      "image/png": "[encoded data removed]",
      "text/plain": [
       "<Figure size 432x288 with 1 Axes>"
      ]
     },
     "metadata": {
      "needs_background": "light"
     },
     "output_type": "display_data"
    }
   ],
   "source": [
    "# get proportion of payroll spent on batting\n",
    "proportion_batter_salary = mean_team_batting_salaries/mean_total_salaries\n",
    "# get proportion of payroll spent on relievers\n",
    "proportion_reliever_salary = mean_team_reliever_salaries/mean_total_salaries\n",
    "\n",
    "# add two new series to the proportions dataframe\n",
    "percentage_df[\"relief pitcher salary proportion\"] = proportion_reliever_salary\n",
    "percentage_df[\"batter salary proportion\"] = proportion_batter_salary\n",
    "\n",
    "# make a scatter plot with reliever proportions\n",
    "plt.figure()\n",
    "plt.scatter(percentage_df[\"win percentage\"], percentage_df[\"relief pitcher salary proportion\"])\n",
    "# add team label to each point\n",
    "for row in percentage_df.iterrows():\n",
    "    x = row[1][\"win percentage\"]\n",
    "    y = row[1][\"relief pitcher salary proportion\"]\n",
    "    val = row[0]\n",
    "    plt.annotate(val, (x,y))\n",
    "# add labels and title for the plot\n",
    "plt.ylabel(\"relief pitcher salary proportion\")\n",
    "plt.xlabel(\"win percentage\")\n",
    "plt.title(\"Winning Percentage Compared to Proportion of Payroll Spent on Relievers\")\n",
    "\n",
    "# make a scatter plot with batter proportions\n",
    "plt.figure()\n",
    "plt.scatter(percentage_df[\"win percentage\"], percentage_df[\"batter salary proportion\"])\n",
    "# add team label to each point\n",
    "for row in percentage_df.iterrows():\n",
    "    x = row[1][\"win percentage\"]\n",
    "    y = row[1][\"batter salary proportion\"]\n",
    "    val = row[0]\n",
    "    plt.annotate(val, (x,y))\n",
    "# add labels and title for the plot\n",
    "plt.ylabel(\"batter salary proportion\")\n",
    "plt.xlabel(\"win percentage\")\n",
    "plt.title(\"Winning Percentage Compared to Proportion of Payroll Spent on Batters\")\n"
   ]
  },
  {
   "cell_type": "markdown",
   "metadata": {},
   "source": [
    "**It is still difficult to see if there is any correlation between what position teams are spending their money on and their winning percentage, but luckily we can get a distinct number for the correlation using some quantitative analysis**"
   ]
  },
  {
   "cell_type": "code",
   "execution_count": 170,
   "metadata": {},
   "outputs": [
    {
     "name": "stdout",
     "output_type": "stream",
     "text": [
      "The Correlation between Win Percentage and Starting Pitcher Salary Proportion is -0.023688166554020656\n",
      "The Correlation between Win Percentage and Relief Pitcher Salary Proportion is -0.1804829023461707\n",
      "The Correlation between Win Percentage and Batter Salary Proportion is 0.15206873107748384\n"
     ]
    }
   ],
   "source": [
    "# Get correlation between starting pitcher salary proportion and winning percentage\n",
    "starter_corr = percentage_df[\"win percentage\"].corr(percentage_df[\"starting pitcher salary proportion\"])\n",
    "\n",
    "# Get correlation between relief pitcher salary proportion and winning percentage\n",
    "reliever_corr = percentage_df[\"win percentage\"].corr(percentage_df[\"relief pitcher salary proportion\"])\n",
    "\n",
    "# Get correlation between batter salary proportion and winning percentage\n",
    "batter_corr = percentage_df[\"win percentage\"].corr(percentage_df[\"batter salary proportion\"])\n",
    "\n",
    "# print output statements with the correlations\n",
    "print(\"The Correlation between Win Percentage and Starting Pitcher Salary Proportion is \" + str(starter_corr))\n",
    "print(\"The Correlation between Win Percentage and Relief Pitcher Salary Proportion is \" + str(reliever_corr))\n",
    "print(\"The Correlation between Win Percentage and Batter Salary Proportion is \" + str(batter_corr))"
   ]
  },
  {
   "cell_type": "markdown",
   "metadata": {},
   "source": [
    "**These results tell us that there is almost zero correlation between how teams pay their players and how many games they win.**"
   ]
  },
  {
   "cell_type": "code",
   "execution_count": null,
   "metadata": {},
   "outputs": [],
   "source": []
  }
 ],
 "metadata": {
  "kernelspec": {
   "display_name": "Python 3",
   "language": "python",
   "name": "python3"
  },
  "language_info": {
   "codemirror_mode": {
    "name": "ipython",
    "version": 3
   },
   "file_extension": ".py",
   "mimetype": "text/x-python",
   "name": "python",
   "nbconvert_exporter": "python",
   "pygments_lexer": "ipython3",
   "version": "3.7.3"
  }
 },
 "nbformat": 4,
 "nbformat_minor": 2
}
