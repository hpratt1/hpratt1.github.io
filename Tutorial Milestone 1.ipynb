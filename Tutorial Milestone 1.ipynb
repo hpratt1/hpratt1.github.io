{
 "cells": [
  {
   "cell_type": "markdown",
   "metadata": {},
   "source": [
    "**Milestone 1**"
   ]
  },
  {
   "cell_type": "markdown",
   "metadata": {},
   "source": [
    "https://hpratt1.github.io/"
   ]
  },
  {
   "cell_type": "markdown",
   "metadata": {},
   "source": [
    "The datasets that I want to examine are from Lahman's Baseball Database. I played baseball for many years so this is a topic that I am passionate about and in which I have always had interest. This database has about 20 different datasets spanning all types of baseball statistics. The data is all contained in csv files, so it is very easy to access and the data will not have to be scraped from any website. The main datasets that I would like to focus on are the batting statistics and the pitching statistics, which are stored in Pitching.csv and Batting.csv, respectively. There are also fielding statistics data available on the database, but I believe that the information that can be extracted from fielding statistics is not as useful or interesting as from batting and pitching."
   ]
  },
  {
   "cell_type": "markdown",
   "metadata": {},
   "source": [
    "Since batting and pitching are such large areas with so many statistics, I think that it would be best if I just chose one out of the two to focus on. While they are inherently related, they can also be easily separated and I would rather go more in depth with one of the sets than go less in depth with both of the sets. Each data set spans from 1871 to 2018, so it pretty much covers all of recorded baseball history. My intention with this tutorial is to compare all of the statistics from the past century and see how the statistics have changed over time and how the game of baseball has evolved. For example, I am expecting that over time the average batting average has decreased but the number of home runs per year has increased. Also, I am assuming that average pitching ERA has decreased but the average number of strikeouts has remained the same. There is a lot of information that can be taken from batting and pitching, so thats why I would like to chose one of the two and really go into depth with the data."
   ]
  },
  {
   "cell_type": "markdown",
   "metadata": {},
   "source": [
    "Although all of the pitching and batting statistics are each stored in a single csv file, I will have to use other datasets in order to correctly examine the data. For instance, in the batting dataset each player is identified by an id that includes some information about their name but is hard to interpret. Therefore, there is another file called People.csv which contains the information about the player that will link the player id to their first name, last name, as well as other useful information about the player. Therefore, I will have to perform some joins between datasets in order to make sure that the data is tidy and can be interpreted properly.  "
   ]
  },
  {
   "cell_type": "markdown",
   "metadata": {},
   "source": [
    "In conclusion, I would like to focus on either the pitching or batting data for the last 100 years, since that will get rid of the early years of the game where there isn't as much reliable data. That means looking at the data starting in 1920 and ending in 2018, which is the last year for which the data is recorded. The main question that I will focus on is \"How has the game of baseball evolved over time?\". This question will be answered by looking at the average statistics for the entire league over time, while hopefully combining some of the statistics to get more advanced metrics that can be used to establish an entirely new view of the game of baseball."
   ]
  },
  {
   "cell_type": "code",
   "execution_count": null,
   "metadata": {},
   "outputs": [],
   "source": []
  }
 ],
 "metadata": {
  "kernelspec": {
   "display_name": "Python 3",
   "language": "python",
   "name": "python3"
  },
  "language_info": {
   "codemirror_mode": {
    "name": "ipython",
    "version": 3
   },
   "file_extension": ".py",
   "mimetype": "text/x-python",
   "name": "python",
   "nbconvert_exporter": "python",
   "pygments_lexer": "ipython3",
   "version": "3.7.3"
  }
 },
 "nbformat": 4,
 "nbformat_minor": 2
}
